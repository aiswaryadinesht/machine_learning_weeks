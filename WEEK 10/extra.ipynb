{
 "cells": [
  {
   "cell_type": "code",
   "execution_count": 1,
   "id": "4cfc2f3d-8d66-41ef-a322-46ef080c4a0d",
   "metadata": {},
   "outputs": [
    {
     "name": "stdout",
     "output_type": "stream",
     "text": [
      "6\n"
     ]
    }
   ],
   "source": [
    "class TreeNode:\n",
    "    def __init__(self, val=0, left=None, right=None):\n",
    "        self.val = val\n",
    "        self.left = left\n",
    "        self.right = right\n",
    "\n",
    "class Solution:\n",
    "    def maxPathSum(self, root: TreeNode) -> int:\n",
    "        self.max_sum = float('-inf')\n",
    "        \n",
    "        def max_gain(node):\n",
    "            if not node:\n",
    "                return 0\n",
    "            \n",
    "            left_gain = max(max_gain(node.left), 0)\n",
    "            right_gain = max(max_gain(node.right), 0)\n",
    "            \n",
    "            price_newpath = node.val + left_gain + right_gain\n",
    "            \n",
    "            self.max_sum = max(self.max_sum, price_newpath)\n",
    "            \n",
    "            return node.val + max(left_gain, right_gain)\n",
    "        \n",
    "        max_gain(root)\n",
    "        return self.max_sum\n",
    "\n",
    "root = TreeNode(1)\n",
    "root.left = TreeNode(2)\n",
    "root.right = TreeNode(3)\n",
    "solution = Solution()\n",
    "print(solution.maxPathSum(root))  "
   ]
  },
  {
   "cell_type": "code",
   "execution_count": 2,
   "id": "fad40b10-a7c1-4392-87f2-95b31b0eef0b",
   "metadata": {},
   "outputs": [
    {
     "name": "stdout",
     "output_type": "stream",
     "text": [
      "{0: 0, 1: 3, 2: 1, 3: 4}\n"
     ]
    }
   ],
   "source": [
    "import heapq\n",
    "\n",
    "def dijkstra(graph, start):\n",
    "    n = len(graph)\n",
    "    distances = {i: float('inf') for i in range(n)}\n",
    "    distances[start] = 0\n",
    "    priority_queue = [(0, start)]\n",
    "    \n",
    "    while priority_queue:\n",
    "        current_distance, current_node = heapq.heappop(priority_queue)\n",
    "        \n",
    "        if current_distance > distances[current_node]:\n",
    "            continue\n",
    "        \n",
    "        for neighbor, weight in graph[current_node]:\n",
    "            distance = current_distance + weight\n",
    "            \n",
    "            if distance < distances[neighbor]:\n",
    "                distances[neighbor] = distance\n",
    "                heapq.heappush(priority_queue, (distance, neighbor))\n",
    "    \n",
    "    return distances\n",
    "\n",
    "\n",
    "graph = {\n",
    "    0: [(1, 4), (2, 1)],\n",
    "    1: [(3, 1)],\n",
    "    2: [(1, 2), (3, 5)],\n",
    "    3: []\n",
    "}\n",
    "start_node = 0\n",
    "print(dijkstra(graph, start_node)) \n"
   ]
  },
  {
   "cell_type": "code",
   "execution_count": 3,
   "id": "0053ab7c-64bb-471d-b87c-26cee91827dc",
   "metadata": {},
   "outputs": [
    {
     "name": "stdout",
     "output_type": "stream",
     "text": [
      "['i love you', 'island', 'i love leetcode']\n",
      "['i love you', 'i love leetcode']\n",
      "[]\n",
      "[]\n"
     ]
    }
   ],
   "source": [
    "class TrieNode:\n",
    "    def __init__(self):\n",
    "        self.children = {}\n",
    "        self.is_end_of_word = False\n",
    "        self.sentences = []\n",
    "\n",
    "class Trie:\n",
    "    def __init__(self):\n",
    "        self.root = TrieNode()\n",
    "\n",
    "    def insert(self, sentence, freq):\n",
    "        node = self.root\n",
    "        for char in sentence:\n",
    "            if char not in node.children:\n",
    "                node.children[char] = TrieNode()\n",
    "            node = node.children[char]\n",
    "            self.add_sentence(node.sentences, (sentence, freq))\n",
    "        node.is_end_of_word = True\n",
    "\n",
    "    def search(self, prefix):\n",
    "        node = self.root\n",
    "        for char in prefix:\n",
    "            if char not in node.children:\n",
    "                return []\n",
    "            node = node.children[char]\n",
    "        return [sentence for sentence, _ in node.sentences]\n",
    "\n",
    "    def add_sentence(self, sentences, sentence_freq):\n",
    "        sentence, freq = sentence_freq\n",
    "        for i, (s, f) in enumerate(sentences):\n",
    "            if s == sentence:\n",
    "                sentences[i] = (sentence, freq)\n",
    "                break\n",
    "        else:\n",
    "            sentences.append(sentence_freq)\n",
    "        sentences.sort(key=lambda x: (-x[1], x[0]))\n",
    "        if len(sentences) > 3:\n",
    "            sentences.pop()\n",
    "\n",
    "class AutocompleteSystem:\n",
    "    def __init__(self, sentences, times):\n",
    "        self.trie = Trie()\n",
    "        self.prefix = \"\"\n",
    "        for i in range(len(sentences)):\n",
    "            self.trie.insert(sentences[i], times[i])\n",
    "\n",
    "    def input(self, c):\n",
    "        if c == '#':\n",
    "            self.trie.insert(self.prefix, 1)\n",
    "            self.prefix = \"\"\n",
    "            return []\n",
    "        else:\n",
    "            self.prefix += c\n",
    "            return self.trie.search(self.prefix)\n",
    "\n",
    "\n",
    "sentences = [\"i love you\", \"island\", \"ironman\", \"i love leetcode\"]\n",
    "times = [5, 3, 2, 2]\n",
    "system = AutocompleteSystem(sentences, times)\n",
    "print(system.input('i'))  \n",
    "print(system.input(' '))  \n",
    "print(system.input('a'))  \n",
    "print(system.input('#'))  \n"
   ]
  },
  {
   "cell_type": "code",
   "execution_count": null,
   "id": "c4d6bf52-b003-45e8-b7ca-e69c5f11e8dd",
   "metadata": {},
   "outputs": [],
   "source": []
  }
 ],
 "metadata": {
  "kernelspec": {
   "display_name": "Python 3 (ipykernel)",
   "language": "python",
   "name": "python3"
  },
  "language_info": {
   "codemirror_mode": {
    "name": "ipython",
    "version": 3
   },
   "file_extension": ".py",
   "mimetype": "text/x-python",
   "name": "python",
   "nbconvert_exporter": "python",
   "pygments_lexer": "ipython3",
   "version": "3.11.9"
  }
 },
 "nbformat": 4,
 "nbformat_minor": 5
}
