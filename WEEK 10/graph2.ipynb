{
 "cells": [
  {
   "cell_type": "code",
   "execution_count": 3,
   "id": "a0be3740-f51d-42c8-b504-0feb8193472c",
   "metadata": {},
   "outputs": [],
   "source": [
    "graph = {\n",
    "    'A': ['B', 'C'],\n",
    "    'B': ['A', 'D', 'E'],\n",
    "    'C': ['A', 'F'],\n",
    "    'D': ['B'],\n",
    "    'E': ['B', 'F'],\n",
    "    'F': ['C', 'E']\n",
    "}\n"
   ]
  },
  {
   "cell_type": "code",
   "execution_count": 1,
   "id": "af8c9836-eb12-4775-ad89-3c0367c52238",
   "metadata": {},
   "outputs": [
    {
     "name": "stdout",
     "output_type": "stream",
     "text": [
      "['B', 'D', 'A', 'C', 'E', 'F']\n"
     ]
    }
   ],
   "source": [
    "def topological_sort(graph):\n",
    "    visited = set()\n",
    "    stack = []\n",
    "    \n",
    "    def dfs(node):\n",
    "        visited.add(node)\n",
    "        for neighbor in graph[node]:\n",
    "            if neighbor not in visited:\n",
    "                dfs(neighbor)\n",
    "        stack.append(node)\n",
    "    \n",
    "    for node in graph:\n",
    "        if node not in visited:\n",
    "            dfs(node)\n",
    "    \n",
    "    return stack[::-1]\n",
    "\n",
    "dag = {\n",
    "    'A': ['C'],\n",
    "    'B': ['C', 'D'],\n",
    "    'C': ['E'],\n",
    "    'D': ['F'],\n",
    "    'E': ['F'],\n",
    "    'F': []\n",
    "}\n",
    "\n",
    "print(topological_sort(dag))\n"
   ]
  },
  {
   "cell_type": "code",
   "execution_count": 4,
   "id": "5017ad72-163d-4693-8a12-833f55894c0a",
   "metadata": {},
   "outputs": [
    {
     "name": "stdout",
     "output_type": "stream",
     "text": [
      "Cycle exists:\n"
     ]
    }
   ],
   "source": [
    "def detect_cycle(graph, node, visited, parent):\n",
    "    visited.add(node)\n",
    "    \n",
    "    for neighbor in graph[node]:\n",
    "        if neighbor not in visited:\n",
    "            if detect_cycle(graph, neighbor, visited, node):\n",
    "                return True\n",
    "        elif parent != neighbor:\n",
    "            return True\n",
    "    return False\n",
    "\n",
    "visited = set()\n",
    "cycle_exists = False\n",
    "for node in graph:\n",
    "    if node not in visited:\n",
    "        if detect_cycle(graph, node, visited, None):\n",
    "            cycle_exists = True\n",
    "            break\n",
    "\n",
    "print(\"Cycle exists:\" if cycle_exists else \"No cycle found\")\n"
   ]
  },
  {
   "cell_type": "code",
   "execution_count": 5,
   "id": "06abaf86-d8d9-495a-bb70-1366dc5dfd40",
   "metadata": {},
   "outputs": [
    {
     "name": "stdout",
     "output_type": "stream",
     "text": [
      "A B D E F C "
     ]
    }
   ],
   "source": [
    "def dfs(graph, start, visited=None):\n",
    "    if visited is None:\n",
    "        visited = set()\n",
    "    visited.add(start)\n",
    "    print(start, end=' ')\n",
    "    \n",
    "    for neighbor in graph[start]:\n",
    "        if neighbor not in visited:\n",
    "            dfs(graph, neighbor, visited)\n",
    "\n",
    "dfs(graph, 'A')\n"
   ]
  },
  {
   "cell_type": "code",
   "execution_count": 9,
   "id": "f7d4ec38-8ba1-4149-a605-2897737aeb15",
   "metadata": {},
   "outputs": [
    {
     "name": "stdout",
     "output_type": "stream",
     "text": [
      "['A', 'C', 'F']\n"
     ]
    }
   ],
   "source": [
    "from collections import deque\n",
    "\n",
    "def bfs_shortest_path(graph, start, goal):\n",
    "    queue = deque([[start]])\n",
    "    visited = set()\n",
    "    \n",
    "    while queue:\n",
    "        path = queue.popleft()\n",
    "        node = path[-1]\n",
    "        \n",
    "        if node == goal:\n",
    "            return path\n",
    "        \n",
    "        if node not in visited:\n",
    "            for neighbor in graph[node]:\n",
    "                new_path = list(path)\n",
    "                new_path.append(neighbor)\n",
    "                queue.append(new_path)\n",
    "                \n",
    "            visited.add(node)\n",
    "\n",
    "print(bfs_shortest_path(graph, 'A', 'F'))\n"
   ]
  },
  {
   "cell_type": "code",
   "execution_count": null,
   "id": "50967b4c-a487-43ea-8cd6-55326f377817",
   "metadata": {},
   "outputs": [],
   "source": []
  }
 ],
 "metadata": {
  "kernelspec": {
   "display_name": "Python 3 (ipykernel)",
   "language": "python",
   "name": "python3"
  },
  "language_info": {
   "codemirror_mode": {
    "name": "ipython",
    "version": 3
   },
   "file_extension": ".py",
   "mimetype": "text/x-python",
   "name": "python",
   "nbconvert_exporter": "python",
   "pygments_lexer": "ipython3",
   "version": "3.11.9"
  }
 },
 "nbformat": 4,
 "nbformat_minor": 5
}
