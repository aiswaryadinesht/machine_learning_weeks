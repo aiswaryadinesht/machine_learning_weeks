{
 "cells": [
  {
   "cell_type": "code",
   "execution_count": 2,
   "id": "5ca4ef2e-a0f0-48d3-8161-d902985c4be3",
   "metadata": {},
   "outputs": [
    {
     "name": "stdout",
     "output_type": "stream",
     "text": [
      "Sorted array is: [5, 6, 7, 11, 12, 13]\n"
     ]
    }
   ],
   "source": [
    "def heap_sort(arr):\n",
    "    n = len(arr)\n",
    "\n",
    "    \n",
    "    build_max_heap(arr)\n",
    "\n",
    "    \n",
    "    for i in range(n-1, 0, -1):\n",
    "        arr[i], arr[0] = arr[0], arr[i] \n",
    "        heapify(arr, i, 0)\n",
    "\n",
    "\n",
    "def build_max_heap(arr):\n",
    "    n = len(arr)\n",
    "    for i in range(n // 2 - 1, -1, -1):\n",
    "        heapify(arr, n, i)\n",
    "\n",
    "def heapify(arr, n, i):\n",
    "    largest = i\n",
    "    left = 2 * i + 1\n",
    "    right = 2 * i + 2\n",
    "\n",
    "    if left < n and arr[i] < arr[left]:\n",
    "        largest = left\n",
    "    if right < n and arr[largest] < arr[right]:\n",
    "        largest = right\n",
    "    if largest != i:\n",
    "        arr[i], arr[largest] = arr[largest], arr[i]\n",
    "        heapify(arr, n, largest)\n",
    "\n",
    "\n",
    "arr = [12, 11, 13, 5, 6, 7]\n",
    "heap_sort(arr)\n",
    "print(\"Sorted array is:\", arr)\n"
   ]
  },
  {
   "cell_type": "code",
   "execution_count": 3,
   "id": "9d30008e-d542-44d9-9b2e-e7d31cadb16f",
   "metadata": {},
   "outputs": [
    {
     "name": "stdout",
     "output_type": "stream",
     "text": [
      "[2, 3, 4, 7, 8, 11]\n"
     ]
    }
   ],
   "source": [
    "class MaxHeap:\n",
    "    def __init__(self):\n",
    "        self.heap = []\n",
    "\n",
    "    def _bubble_down(self, index, n):\n",
    "        left_child_index = 2 * index + 1\n",
    "        right_child_index = 2 * index + 2\n",
    "        largest = index\n",
    "\n",
    "        if left_child_index < n and self.heap[left_child_index] > self.heap[largest]:\n",
    "            largest = left_child_index\n",
    "\n",
    "        if right_child_index < n and self.heap[right_child_index] > self.heap[largest]:\n",
    "            largest = right_child_index\n",
    "\n",
    "        if largest != index:\n",
    "            self.heap[index], self.heap[largest] = self.heap[largest], self.heap[index]\n",
    "            self._bubble_down(largest, n)\n",
    "\n",
    "    def build_heap(self, arr):\n",
    "        self.heap = arr\n",
    "        n = len(arr)\n",
    "        for i in reversed(range(n // 2)):\n",
    "            self._bubble_down(i, n)\n",
    "\n",
    "\n",
    "def heap_sort(arr):\n",
    "    n = len(arr)\n",
    "    h = MaxHeap()\n",
    "    h.build_heap(arr)\n",
    "\n",
    "    # Extract elements from the heap one by one\n",
    "    for i in range(n - 1, 0, -1):\n",
    "        arr[i], arr[0] = arr[0], arr[i]  # Move the current root to the end\n",
    "        h._bubble_down(0, i)  # Call bubble_down on the reduced heap\n",
    "\n",
    "\n",
    "arr = [7, 8, 11, 2, 4, 3]\n",
    "heap_sort(arr)\n",
    "print(arr)  # Output: [2, 3, 4, 7, 8, 11]\n"
   ]
  },
  {
   "cell_type": "code",
   "execution_count": null,
   "id": "892ff21c-c12d-4aa1-85dc-a723d5404240",
   "metadata": {},
   "outputs": [],
   "source": []
  }
 ],
 "metadata": {
  "kernelspec": {
   "display_name": "Python 3 (ipykernel)",
   "language": "python",
   "name": "python3"
  },
  "language_info": {
   "codemirror_mode": {
    "name": "ipython",
    "version": 3
   },
   "file_extension": ".py",
   "mimetype": "text/x-python",
   "name": "python",
   "nbconvert_exporter": "python",
   "pygments_lexer": "ipython3",
   "version": "3.11.9"
  }
 },
 "nbformat": 4,
 "nbformat_minor": 5
}
