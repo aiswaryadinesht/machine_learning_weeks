{
 "cells": [
  {
   "cell_type": "code",
   "execution_count": 4,
   "id": "02e5002d-47c9-4ff5-87e7-f2034af84524",
   "metadata": {},
   "outputs": [
    {
     "name": "stdout",
     "output_type": "stream",
     "text": [
      "Sample Distribution: [4, 8, 2]\n"
     ]
    }
   ],
   "source": [
    "import random\n",
    "\n",
    "population = [2, 4, 6, 8, 10]\n",
    "sample = random.sample(population, 3)\n",
    "print(\"Sample Distribution:\", sample)\n"
   ]
  },
  {
   "cell_type": "code",
   "execution_count": 5,
   "id": "7fed5502-218c-4a17-82af-c65702002a2c",
   "metadata": {},
   "outputs": [
    {
     "name": "stdout",
     "output_type": "stream",
     "text": [
      "Mean: 2.4\n",
      "Median: 2\n",
      "Mode: 2\n"
     ]
    }
   ],
   "source": [
    "data = [1, 2, 2, 3, 4]\n",
    "\n",
    "mean = sum(data) / len(data)\n",
    "median = sorted(data)[len(data) // 2]\n",
    "mode = max(set(data), key=data.count)\n",
    "\n",
    "print(\"Mean:\", mean)\n",
    "print(\"Median:\", median)\n",
    "print(\"Mode:\", mode)\n"
   ]
  },
  {
   "cell_type": "code",
   "execution_count": 6,
   "id": "ae627184-2fe8-42d7-a9a5-5687b849eee4",
   "metadata": {},
   "outputs": [
    {
     "name": "stdout",
     "output_type": "stream",
     "text": [
      "Variance: 8.0\n",
      "Standard Deviation: 2.8284271247461903\n"
     ]
    }
   ],
   "source": [
    "data = [2, 4, 6, 8, 10]\n",
    "mean = sum(data) / len(data)\n",
    "variance = sum((x - mean) ** 2 for x in data) / len(data)\n",
    "std_deviation = variance ** 0.5\n",
    "\n",
    "print(\"Variance:\", variance)\n",
    "print(\"Standard Deviation:\", std_deviation)\n"
   ]
  },
  {
   "cell_type": "code",
   "execution_count": 7,
   "id": "0fc11f89-8d5c-431c-b6f6-bf187d6ddcf0",
   "metadata": {},
   "outputs": [
    {
     "name": "stdout",
     "output_type": "stream",
     "text": [
      "Mean: -0.05828812636467862\n",
      "Standard Deviation: 0.9769740118044078\n"
     ]
    }
   ],
   "source": [
    "import random\n",
    "\n",
    "data = [random.gauss(0, 1) for _ in range(1000)]\n",
    "mean = sum(data) / len(data)\n",
    "variance = sum((x - mean) ** 2 for x in data) / len(data)\n",
    "std_deviation = variance ** 0.5\n",
    "\n",
    "print(\"Mean:\", mean)\n",
    "print(\"Standard Deviation:\", std_deviation)\n"
   ]
  },
  {
   "cell_type": "code",
   "execution_count": 8,
   "id": "4d406fec-b8ee-43af-8da3-8cba52618825",
   "metadata": {},
   "outputs": [
    {
     "name": "stdout",
     "output_type": "stream",
     "text": [
      "Bar Plot: {1: 1, 2: 2, 3: 1, 4: 1}\n"
     ]
    }
   ],
   "source": [
    "# Bar Plot Example\n",
    "data = [1, 2, 2, 3, 4]\n",
    "bar_plot = {x: data.count(x) for x in set(data)}\n",
    "print(\"Bar Plot:\", bar_plot)\n"
   ]
  },
  {
   "cell_type": "code",
   "execution_count": null,
   "id": "972015c1-f14e-46bb-8fe2-ed6e77f9ac4e",
   "metadata": {},
   "outputs": [],
   "source": []
  },
  {
   "cell_type": "code",
   "execution_count": null,
   "id": "44afeecd-d57a-4188-ae32-0e6b8d9e1544",
   "metadata": {},
   "outputs": [],
   "source": []
  }
 ],
 "metadata": {
  "kernelspec": {
   "display_name": "Python 3 (ipykernel)",
   "language": "python",
   "name": "python3"
  },
  "language_info": {
   "codemirror_mode": {
    "name": "ipython",
    "version": 3
   },
   "file_extension": ".py",
   "mimetype": "text/x-python",
   "name": "python",
   "nbconvert_exporter": "python",
   "pygments_lexer": "ipython3",
   "version": "3.11.9"
  }
 },
 "nbformat": 4,
 "nbformat_minor": 5
}
