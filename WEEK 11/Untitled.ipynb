{
 "cells": [
  {
   "cell_type": "code",
   "execution_count": 10,
   "id": "db8c757f-9b9c-46f9-9720-56d5d5b81a09",
   "metadata": {},
   "outputs": [
    {
     "name": "stdout",
     "output_type": "stream",
     "text": [
      "[[0, 0, 0], [0, 0, 0], [0, 0, 0]]\n"
     ]
    }
   ],
   "source": [
    "res=[]\n",
    "for i in range(len(a)):\n",
    "    r=[]\n",
    "    for j in range(len(a[0])):\n",
    "        r.append(0)\n",
    "    res.append(r)\n",
    "print(res)\n",
    "        "
   ]
  },
  {
   "cell_type": "code",
   "execution_count": 14,
   "id": "e7a1559e-3c23-4169-b18c-73cf61284f54",
   "metadata": {},
   "outputs": [
    {
     "name": "stdout",
     "output_type": "stream",
     "text": [
      "[124, 239, 139]\n",
      "[32, 92, 22]\n",
      "[71, 234, 60]\n"
     ]
    }
   ],
   "source": [
    "a=[[7,9,6],\n",
    "   [1,2,3],\n",
    "   [3,4,8]]\n",
    "b=[[1,2,16],\n",
    "   [11,9,3],\n",
    "   [3,24,0]]\n",
    "\n",
    "\n",
    "for i in range(len(a)):\n",
    "    for j in range(len(b[0])):\n",
    "        for k in range(len(b)):\n",
    "            res[i][j]+=a[i][k]*b[k][j]\n",
    "\n",
    "for r in res:\n",
    "    print(r)"
   ]
  },
  {
   "cell_type": "code",
   "execution_count": 3,
   "id": "bdd2d44c-20d8-45f1-bca6-9dfd50fb29fd",
   "metadata": {},
   "outputs": [
    {
     "name": "stdout",
     "output_type": "stream",
     "text": [
      "Cofactor Matrix: [[2, 3], [4, 8]]\n"
     ]
    }
   ],
   "source": [
    "def cofactor(matrix, m, n):\n",
    "    # Create an empty matrix to store the cofactor\n",
    "    cofactor_matrix = []\n",
    "\n",
    "    # Loop through the matrix to construct the cofactor matrix\n",
    "    for i in range(len(matrix)):\n",
    "        if i != m:\n",
    "            row = []\n",
    "            for j in range(len(matrix[i])):\n",
    "                if j != n:\n",
    "                    row.append(matrix[i][j])\n",
    "            if row:\n",
    "                cofactor_matrix.append(row)\n",
    "    \n",
    "    return cofactor_matrix\n",
    "\n",
    "# Example 3x3 Matrix\n",
    "matrix = [\n",
    "    [7, 9, 6],\n",
    "    [1, 2, 3],\n",
    "    [3, 4, 8]\n",
    "]\n",
    "\n",
    "# Get the cofactor of element at (0, 0)\n",
    "result = cofactor(matrix, 0, 0)\n",
    "print(\"Cofactor Matrix:\", result)\n"
   ]
  },
  {
   "cell_type": "code",
   "execution_count": 25,
   "id": "e8102790-d577-4c78-afbf-3f644b6a9829",
   "metadata": {},
   "outputs": [
    {
     "name": "stdout",
     "output_type": "stream",
     "text": [
      "[8, 11, 22]\n",
      "[12, 11, 6]\n",
      "[6, 28, 8]\n"
     ]
    }
   ],
   "source": [
    "for i in range(len(a)):\n",
    "    for j in range(len(a[0])):\n",
    "        res[i][j]=a[i][j]+b[i][j]\n",
    "\n",
    "for s in res:\n",
    "    print(s)"
   ]
  },
  {
   "cell_type": "code",
   "execution_count": 20,
   "id": "d7d1270e-42d7-42f5-b53b-2ba7363a4b10",
   "metadata": {},
   "outputs": [
    {
     "name": "stdout",
     "output_type": "stream",
     "text": [
      "[[6, 7, -10], [-10, -7, 0], [0, -20, 8]]\n"
     ]
    }
   ],
   "source": [
    "res=[[a[i][j]-b[i][j] for j in range(len(a[0]))]for i in range(len(a))]]\n",
    "print(res)"
   ]
  },
  {
   "cell_type": "code",
   "execution_count": 23,
   "id": "ca3b07b0-34b5-4e1c-8410-baea47d221b5",
   "metadata": {},
   "outputs": [
    {
     "name": "stdout",
     "output_type": "stream",
     "text": [
      "[[21, 27, 18], [3, 6, 9], [9, 12, 24]]\n"
     ]
    }
   ],
   "source": [
    "res=[[a[i][j]*3 for j in range(len(a[0]))]for i in range(len(a))]\n",
    "print(res)"
   ]
  },
  {
   "cell_type": "code",
   "execution_count": 11,
   "id": "a5bcb001-f648-45c0-8298-1e18409650ac",
   "metadata": {},
   "outputs": [
    {
     "name": "stdout",
     "output_type": "stream",
     "text": [
      "[[7, 1, 3], [9, 2, 4], [6, 3, 8]]\n"
     ]
    }
   ],
   "source": [
    "a=[[7,9,6],\n",
    "   [1,2,3],\n",
    "   [3,4,8]]\n",
    "for i in range(len(a)):\n",
    "    for j in range(len(a[0])):\n",
    "        res[i][j]+=a[j][i]\n",
    "print(res)"
   ]
  },
  {
   "cell_type": "code",
   "execution_count": 8,
   "id": "0888b181-ea62-4e53-8fa0-a2fdc91cc384",
   "metadata": {},
   "outputs": [
    {
     "name": "stdout",
     "output_type": "stream",
     "text": [
      "[124, 239, 139]\n",
      "[32, 92, 22]\n",
      "[71, 234, 60]\n"
     ]
    }
   ],
   "source": [
    "a = [\n",
    "    [7, 9, 6],\n",
    "    [1, 2, 3],\n",
    "    [3, 4, 8]\n",
    "]\n",
    "\n",
    "b = [\n",
    "    [1, 2, 16],\n",
    "    [11, 9, 3],\n",
    "    [3, 24, 0]\n",
    "]\n",
    "\n",
    "# Initialize the result matrix with zeros\n",
    "res = [\n",
    "    [0, 0, 0],\n",
    "    [0, 0, 0],\n",
    "    [0, 0, 0]\n",
    "]\n",
    "\n",
    "# Perform matrix multiplication\n",
    "for i in range(len(a)):  # Iterate over rows of matrix a\n",
    "    for j in range(len(b[0])):  # Iterate over columns of matrix b\n",
    "        for k in range(len(b)):  # Iterate over elements in the current row of a and column of b\n",
    "            res[i][j] += a[i][k] * b[k][j]\n",
    "\n",
    "# Print the result matrix\n",
    "for r in res:\n",
    "    print(r)\n"
   ]
  },
  {
   "cell_type": "code",
   "execution_count": 3,
   "id": "36617676-538d-4516-afd4-6a5f4ac9bea1",
   "metadata": {},
   "outputs": [
    {
     "name": "stdout",
     "output_type": "stream",
     "text": [
      "[[9, 3], [24, 0]]\n",
      "[[11, 3], [3, 0]]\n",
      "[[11, 9], [3, 24]]\n",
      "[[2, 16], [24, 0]]\n",
      "[[1, 16], [3, 0]]\n",
      "[[1, 2], [3, 24]]\n",
      "[[2, 16], [9, 3]]\n",
      "[[1, 16], [11, 3]]\n",
      "[[1, 2], [11, 9]]\n"
     ]
    }
   ],
   "source": [
    "x= [\n",
    "    [1, 2, 16],\n",
    "    [11, 9, 3],\n",
    "    [3, 24, 0]\n",
    "]\n",
    "\n",
    "def minor_matrix(x,i,j):\n",
    "    res=[]\n",
    "    for m in range(len(x)):\n",
    "        if m!=i:\n",
    "            r=[]\n",
    "            for n in range(len(x[0])):\n",
    "                if n!=j:\n",
    "                    r.append(x[m][n])\n",
    "            if r:\n",
    "                res.append(r)\n",
    "    print(res)\n",
    "            \n",
    "            \n",
    "\n",
    "for i in range(len(x)):\n",
    "    for j in range(len(x[0])):\n",
    "        minor_matrix(x,i,j)"
   ]
  },
  {
   "cell_type": "code",
   "execution_count": null,
   "id": "d0bfae85-b36d-4bc1-b989-8aacfd1ee15c",
   "metadata": {},
   "outputs": [],
   "source": []
  }
 ],
 "metadata": {
  "kernelspec": {
   "display_name": "Python 3 (ipykernel)",
   "language": "python",
   "name": "python3"
  },
  "language_info": {
   "codemirror_mode": {
    "name": "ipython",
    "version": 3
   },
   "file_extension": ".py",
   "mimetype": "text/x-python",
   "name": "python",
   "nbconvert_exporter": "python",
   "pygments_lexer": "ipython3",
   "version": "3.11.9"
  }
 },
 "nbformat": 4,
 "nbformat_minor": 5
}
