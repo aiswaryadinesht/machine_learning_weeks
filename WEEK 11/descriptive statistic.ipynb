{
 "cells": [
  {
   "cell_type": "code",
   "execution_count": 1,
   "id": "1d71f7e4-76a6-4723-a6bb-d8fc499ac48d",
   "metadata": {},
   "outputs": [
    {
     "name": "stdout",
     "output_type": "stream",
     "text": [
      "Mean: 8.0, Median: 8, Mode: 2\n"
     ]
    }
   ],
   "source": [
    "data = [2, 4, 6, 8, 10, 12, 14]\n",
    "\n",
    "# Mean\n",
    "mean = sum(data) / len(data)\n",
    "\n",
    "# Median\n",
    "sorted_data = sorted(data)\n",
    "n = len(data)\n",
    "median = sorted_data[n//2] if n % 2 != 0 else (sorted_data[n//2 - 1] + sorted_data[n//2]) / 2\n",
    "\n",
    "# Mode\n",
    "mode = max(set(data), key=data.count)\n",
    "\n",
    "print(f\"Mean: {mean}, Median: {median}, Mode: {mode}\")\n"
   ]
  },
  {
   "cell_type": "code",
   "execution_count": 2,
   "id": "3913ffef-08b9-468d-bb71-24e68b42594a",
   "metadata": {},
   "outputs": [
    {
     "name": "stdout",
     "output_type": "stream",
     "text": [
      "Variance: 16.0, Standard Deviation: 4.0\n"
     ]
    }
   ],
   "source": [
    "# Variance\n",
    "variance = sum((x - mean) ** 2 for x in data) / len(data)\n",
    "\n",
    "# Standard Deviation\n",
    "std_dev = variance ** 0.5\n",
    "\n",
    "print(f\"Variance: {variance}, Standard Deviation: {std_dev}\")\n"
   ]
  },
  {
   "cell_type": "code",
   "execution_count": 2,
   "id": "a549aad6-83db-460b-86c9-55cb4a4615e4",
   "metadata": {},
   "outputs": [
    {
     "name": "stdout",
     "output_type": "stream",
     "text": [
      "Covariance: 10.0\n",
      "Correlation: 0.9999999999999998\n"
     ]
    }
   ],
   "source": [
    "def mean(values):\n",
    "    return sum(values) / len(values)\n",
    "\n",
    "def covariance(X, Y):\n",
    "    if len(X) != len(Y):\n",
    "        raise ValueError(\"Lists X and Y must have the same length\")\n",
    "    \n",
    "    n = len(X)\n",
    "    mean_X = mean(X)\n",
    "    mean_Y = mean(Y)\n",
    "    \n",
    "    cov = sum((X[i] - mean_X) * (Y[i] - mean_Y) for i in range(n)) / (n - 1)\n",
    "    return cov\n",
    "\n",
    "def variance(values):\n",
    "    mean_val = mean(values)\n",
    "    return sum((x - mean_val) ** 2 for x in values) / (len(values) - 1)\n",
    "\n",
    "def standard_deviation(values):\n",
    "    return variance(values) ** 0.5\n",
    "\n",
    "def correlation(X, Y):\n",
    "    cov = covariance(X, Y)\n",
    "    std_dev_X = standard_deviation(X)\n",
    "    std_dev_Y = standard_deviation(Y)\n",
    "    \n",
    "    return cov / (std_dev_X * std_dev_Y)\n",
    "\n",
    "# Example usage:\n",
    "X = [2, 4, 6, 8, 10]\n",
    "Y = [1, 3, 5, 7, 9]\n",
    "\n",
    "print(\"Covariance:\", covariance(X, Y))\n",
    "print(\"Correlation:\", correlation(X, Y))\n"
   ]
  },
  {
   "cell_type": "code",
   "execution_count": 3,
   "id": "338daa1e-99d1-4ef5-a7bd-9ebbfda4017e",
   "metadata": {},
   "outputs": [
    {
     "name": "stdout",
     "output_type": "stream",
     "text": [
      "Vector Addition: [5, 7, 9]\n",
      "Vector Subtraction: [-3, -3, -3]\n",
      "Scalar Multiplication: [3, 6, 9]\n",
      "Dot Product: 32\n"
     ]
    }
   ],
   "source": [
    "def vector_addition(a, b):\n",
    "    if len(a) != len(b):\n",
    "        raise ValueError(\"Vectors must be of the same length\")\n",
    "    return [a[i] + b[i] for i in range(len(a))]\n",
    "\n",
    "def vector_subtraction(a, b):\n",
    "    if len(a) != len(b):\n",
    "        raise ValueError(\"Vectors must be of the same length\")\n",
    "    return [a[i] - b[i] for i in range(len(a))]\n",
    "\n",
    "def scalar_multiplication(c, a):\n",
    "    return [c * a[i] for i in range(len(a))]\n",
    "\n",
    "def dot_product(a, b):\n",
    "    if len(a) != len(b):\n",
    "        raise ValueError(\"Vectors must be of the same length\")\n",
    "    return sum(a[i] * b[i] for i in range(len(a)))\n",
    "\n",
    "# Example usage:\n",
    "a = [1, 2, 3]\n",
    "b = [4, 5, 6]\n",
    "c = 3\n",
    "\n",
    "print(\"Vector Addition:\", vector_addition(a, b))\n",
    "print(\"Vector Subtraction:\", vector_subtraction(a, b))\n",
    "print(\"Scalar Multiplication:\", scalar_multiplication(c, a))\n",
    "print(\"Dot Product:\", dot_product(a, b))\n"
   ]
  },
  {
   "cell_type": "code",
   "execution_count": null,
   "id": "92d1c55b-8c81-4736-927d-f4c6fdaf8fca",
   "metadata": {},
   "outputs": [],
   "source": []
  }
 ],
 "metadata": {
  "kernelspec": {
   "display_name": "Python 3 (ipykernel)",
   "language": "python",
   "name": "python3"
  },
  "language_info": {
   "codemirror_mode": {
    "name": "ipython",
    "version": 3
   },
   "file_extension": ".py",
   "mimetype": "text/x-python",
   "name": "python",
   "nbconvert_exporter": "python",
   "pygments_lexer": "ipython3",
   "version": "3.11.9"
  }
 },
 "nbformat": 4,
 "nbformat_minor": 5
}
