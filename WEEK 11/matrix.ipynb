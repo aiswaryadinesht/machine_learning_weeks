{
 "cells": [
  {
   "cell_type": "code",
   "execution_count": 1,
   "id": "9a944cf0-70d4-499e-a516-a8b1460f350d",
   "metadata": {},
   "outputs": [
    {
     "name": "stdout",
     "output_type": "stream",
     "text": [
      "Addition: [[6, 8], [10, 12]]\n",
      "Subtraction: [[-4, -4], [-4, -4]]\n",
      "Multiplication: [[19, 22], [43, 50]]\n",
      "Transpose: [[1, 3], [2, 4]]\n",
      "Determinant of A: -2\n",
      "Inverse of A: [[-2.0, 1.0], [1.5, -0.5]]\n"
     ]
    }
   ],
   "source": [
    "def matrix_addition(A, B):\n",
    "    result = [[A[i][j] + B[i][j] for j in range(len(A[0]))] for i in range(len(A))]\n",
    "    return result\n",
    "\n",
    "def matrix_subtraction(A, B):\n",
    "    result = [[A[i][j] - B[i][j] for j in range(len(A[0]))] for i in range(len(A))]\n",
    "    return result\n",
    "\n",
    "def matrix_multiplication(A, B):\n",
    "    result = [[sum(A[i][k] * B[k][j] for k in range(len(B))) for j in range(len(B[0]))] for i in range(len(A))]\n",
    "    return result\n",
    "\n",
    "def transpose_matrix(A):\n",
    "    result = [[A[j][i] for j in range(len(A))] for i in range(len(A[0]))]\n",
    "    return result\n",
    "\n",
    "def determinant_2x2(A):\n",
    "    return A[0][0] * A[1][1] - A[0][1] * A[1][0]\n",
    "\n",
    "def inverse_2x2(A):\n",
    "    det = determinant_2x2(A)\n",
    "    if det == 0:\n",
    "        return \"Inverse doesn't exist\"\n",
    "    return [[A[1][1] / det, -A[0][1] / det], [-A[1][0] / det, A[0][0] / det]]\n",
    "\n",
    "# Example matrices\n",
    "A = [[1, 2], [3, 4]]\n",
    "B = [[5, 6], [7, 8]]\n",
    "\n",
    "print(\"Addition:\", matrix_addition(A, B))\n",
    "print(\"Subtraction:\", matrix_subtraction(A, B))\n",
    "print(\"Multiplication:\", matrix_multiplication(A, B))\n",
    "print(\"Transpose:\", transpose_matrix(A))\n",
    "print(\"Determinant of A:\", determinant_2x2(A))\n",
    "print(\"Inverse of A:\", inverse_2x2(A))\n"
   ]
  },
  {
   "cell_type": "code",
   "execution_count": 2,
   "id": "66e02b01-d245-42cf-82ff-fb9a0883728f",
   "metadata": {},
   "outputs": [
    {
     "name": "stdout",
     "output_type": "stream",
     "text": [
      "Added: [3, 7]\n",
      "Scalar Multiplication: [4, 6]\n",
      "Dot Product: 14\n",
      "Magnitude: 3.605551275463989\n"
     ]
    }
   ],
   "source": [
    "class Vector:\n",
    "    def __init__(self, elements):\n",
    "        self.elements = elements\n",
    "\n",
    "    def add(self, other):\n",
    "        return Vector([x + y for x, y in zip(self.elements, other.elements)])\n",
    "\n",
    "    def scalar_multiply(self, scalar):\n",
    "        return Vector([scalar * x for x in self.elements])\n",
    "\n",
    "    def dot_product(self, other):\n",
    "        return sum(x * y for x, y in zip(self.elements, other.elements))\n",
    "\n",
    "    def magnitude(self):\n",
    "        return sum(x**2 for x in self.elements) ** 0.5\n",
    "\n",
    "\n",
    "v1 = Vector([2, 3])\n",
    "v2 = Vector([1, 4])\n",
    "\n",
    "result_add = v1.add(v2)\n",
    "result_scalar = v1.scalar_multiply(2)\n",
    "result_dot = v1.dot_product(v2)\n",
    "result_magnitude = v1.magnitude()\n",
    "\n",
    "print(\"Added:\", result_add.elements)\n",
    "print(\"Scalar Multiplication:\", result_scalar.elements)\n",
    "print(\"Dot Product:\", result_dot)\n",
    "print(\"Magnitude:\", result_magnitude)\n"
   ]
  },
  {
   "cell_type": "code",
   "execution_count": 2,
   "id": "6d1d0bd7-68c3-46b5-9141-6b9069f55d16",
   "metadata": {},
   "outputs": [
    {
     "name": "stdout",
     "output_type": "stream",
     "text": [
      "Scaled Point: [4, 9]\n"
     ]
    }
   ],
   "source": [
    "def scale_matrix(sx, sy):\n",
    "    return [\n",
    "        [sx, 0],\n",
    "        [0, sy]\n",
    "    ]\n",
    "\n",
    "def apply_transformation(matrix, point):\n",
    "    x = matrix[0][0] * point[0] + matrix[0][1] * point[1]\n",
    "    y = matrix[1][0] * point[0] + matrix[1][1] * point[1]\n",
    "    return [x, y]\n",
    "\n",
    "# Example usage:\n",
    "scaling_matrix = scale_matrix(2, 3)\n",
    "point = [2, 3]\n",
    "scaled_point = apply_transformation(scaling_matrix, point)\n",
    "print(\"Scaled Point:\", scaled_point)\n"
   ]
  },
  {
   "cell_type": "code",
   "execution_count": 3,
   "id": "8158ffe3-07d7-4f77-aa2f-f045cd338273",
   "metadata": {},
   "outputs": [
    {
     "name": "stdout",
     "output_type": "stream",
     "text": [
      "Rotated Point: [6.123233995736766e-17, 1.0]\n"
     ]
    }
   ],
   "source": [
    "import math\n",
    "\n",
    "def rotation_matrix(theta):\n",
    "    return [\n",
    "        [math.cos(theta), -math.sin(theta)],\n",
    "        [math.sin(theta), math.cos(theta)]\n",
    "    ]\n",
    "\n",
    "# Example usage:\n",
    "theta = math.radians(90)  # Rotate by 90 degrees\n",
    "rotation_mat = rotation_matrix(theta)\n",
    "point = [1, 0]\n",
    "rotated_point = apply_transformation(rotation_mat, point)\n",
    "print(\"Rotated Point:\", rotated_point)\n"
   ]
  },
  {
   "cell_type": "code",
   "execution_count": 4,
   "id": "18851105-f4cc-4f64-b74e-485c5bad4968",
   "metadata": {},
   "outputs": [
    {
     "name": "stdout",
     "output_type": "stream",
     "text": [
      "Scaled Point: [4, 9]\n"
     ]
    }
   ],
   "source": [
    "def scale_matrix(sx, sy):\n",
    "    return [\n",
    "        [sx, 0],\n",
    "        [0, sy]\n",
    "    ]\n",
    "\n",
    "def apply_transformation(matrix, point):\n",
    "    x = matrix[0][0] * point[0] + matrix[0][1] * point[1]\n",
    "    y = matrix[1][0] * point[0] + matrix[1][1] * point[1]\n",
    "    return [x, y]\n",
    "\n",
    "# Example usage:\n",
    "scaling_matrix = scale_matrix(2, 3)\n",
    "point = [2, 3]\n",
    "scaled_point = apply_transformation(scaling_matrix, point)\n",
    "print(\"Scaled Point:\", scaled_point)\n"
   ]
  },
  {
   "cell_type": "code",
   "execution_count": 5,
   "id": "ae5f46f4-97c1-4a74-82b1-16d628ae1bdd",
   "metadata": {},
   "outputs": [
    {
     "name": "stdout",
     "output_type": "stream",
     "text": [
      "Sheared Point: [7, 2]\n"
     ]
    }
   ],
   "source": [
    "def shear_matrix(hx, hy):\n",
    "    return [\n",
    "        [1, hx],\n",
    "        [hy, 1]\n",
    "    ]\n",
    "\n",
    "# Example usage:\n",
    "shear_mat = shear_matrix(2, 0)  # Horizontal shear\n",
    "point = [3, 2]\n",
    "sheared_point = apply_transformation(shear_mat, point)\n",
    "print(\"Sheared Point:\", sheared_point)\n"
   ]
  },
  {
   "cell_type": "code",
   "execution_count": 6,
   "id": "9c7c1727-bf26-4dd8-8a81-f3d5e74640aa",
   "metadata": {},
   "outputs": [
    {
     "name": "stdout",
     "output_type": "stream",
     "text": [
      "Translated Point: [6.0, 8.0]\n"
     ]
    }
   ],
   "source": [
    "def translate_matrix(tx, ty):\n",
    "    return [\n",
    "        [1, 0, tx],\n",
    "        [0, 1, ty],\n",
    "        [0, 0, 1]\n",
    "    ]\n",
    "\n",
    "def apply_homogeneous_transformation(matrix, point):\n",
    "    x = matrix[0][0] * point[0] + matrix[0][1] * point[1] + matrix[0][2] * point[2]\n",
    "    y = matrix[1][0] * point[0] + matrix[1][1] * point[1] + matrix[1][2] * point[2]\n",
    "    w = matrix[2][0] * point[0] + matrix[2][1] * point[1] + matrix[2][2] * point[2]\n",
    "    return [x/w, y/w]\n",
    "\n",
    "# Example usage:\n",
    "translation_matrix = translate_matrix(4, 5)\n",
    "point = [2, 3, 1]  # Homogeneous coordinates\n",
    "translated_point = apply_homogeneous_transformation(translation_matrix, point)\n",
    "print(\"Translated Point:\", translated_point)\n"
   ]
  },
  {
   "cell_type": "code",
   "execution_count": 7,
   "id": "e35e4727-c38e-49e4-bdd8-096184b90295",
   "metadata": {},
   "outputs": [
    {
     "name": "stdout",
     "output_type": "stream",
     "text": [
      "Reflected Point across X-axis: [2, -3]\n",
      "Reflected Point across Y-axis: [-2, 3]\n"
     ]
    }
   ],
   "source": [
    "def reflection_matrix_x():\n",
    "    return [\n",
    "        [1, 0],\n",
    "        [0, -1]\n",
    "    ]\n",
    "\n",
    "def reflection_matrix_y():\n",
    "    return [\n",
    "        [-1, 0],\n",
    "        [0, 1]\n",
    "    ]\n",
    "\n",
    "# Example usage:\n",
    "reflection_mat_x = reflection_matrix_x()\n",
    "point = [2, 3]\n",
    "reflected_point_x = apply_transformation(reflection_mat_x, point)\n",
    "print(\"Reflected Point across X-axis:\", reflected_point_x)\n",
    "\n",
    "reflection_mat_y = reflection_matrix_y()\n",
    "reflected_point_y = apply_transformation(reflection_mat_y, point)\n",
    "print(\"Reflected Point across Y-axis:\", reflected_point_y)\n"
   ]
  },
  {
   "cell_type": "code",
   "execution_count": 1,
   "id": "c9147847-3058-4eec-9811-491bd9299640",
   "metadata": {},
   "outputs": [
    {
     "name": "stdout",
     "output_type": "stream",
     "text": [
      "Element at (2, 0): 7\n"
     ]
    }
   ],
   "source": [
    "# Sparse Matrix in COO format\n",
    "sparse_matrix = [\n",
    "    (0, 2, 3),  # (row, column, value)\n",
    "    (1, 1, 5),\n",
    "    (2, 0, 7),\n",
    "    (3, 3, 9)\n",
    "]\n",
    "\n",
    "# To access elements\n",
    "def get_element(sparse_matrix, i, j):\n",
    "    for row, col, value in sparse_matrix:\n",
    "        if row == i and col == j:\n",
    "            return value\n",
    "    return 0  # If not found, return 0 since it's a sparse matrix\n",
    "\n",
    "# Example: Get the element at position (2, 0)\n",
    "element = get_element(sparse_matrix, 2, 0)\n",
    "print(\"Element at (2, 0):\", element)\n"
   ]
  },
  {
   "cell_type": "code",
   "execution_count": null,
   "id": "b29da722-a695-407e-8c45-5952e48f47b5",
   "metadata": {},
   "outputs": [],
   "source": []
  }
 ],
 "metadata": {
  "kernelspec": {
   "display_name": "Python 3 (ipykernel)",
   "language": "python",
   "name": "python3"
  },
  "language_info": {
   "codemirror_mode": {
    "name": "ipython",
    "version": 3
   },
   "file_extension": ".py",
   "mimetype": "text/x-python",
   "name": "python",
   "nbconvert_exporter": "python",
   "pygments_lexer": "ipython3",
   "version": "3.11.9"
  }
 },
 "nbformat": 4,
 "nbformat_minor": 5
}
