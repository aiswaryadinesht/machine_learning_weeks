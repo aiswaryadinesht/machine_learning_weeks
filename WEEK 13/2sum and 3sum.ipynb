{
 "cells": [
  {
   "cell_type": "code",
   "execution_count": 9,
   "id": "68864e31-70ea-4e3d-9ccd-e51e8b250222",
   "metadata": {},
   "outputs": [
    {
     "name": "stdout",
     "output_type": "stream",
     "text": [
      "4 1\n",
      "3 2\n",
      "2 3\n",
      "1 4\n"
     ]
    }
   ],
   "source": [
    "arr=[1,7,8,2,3,4]\n",
    "target=10\n",
    "arr1=[]\n",
    "for i,v in enumerate(arr):\n",
    "    if target-v in arr:\n",
    "        print(arr.index(target-v),i)"
   ]
  },
  {
   "cell_type": "code",
   "execution_count": 11,
   "id": "899d8d8a-48cb-4c39-8540-89b29800db79",
   "metadata": {},
   "outputs": [
    {
     "name": "stdout",
     "output_type": "stream",
     "text": [
      "[-4, -2, -1, 0, 1, 2, 2, 3, 4, 4]\n",
      "[[-4, 0, 4], [-4, 1, 3], [-2, -1, 3], [-2, 0, 2], [-1, 0, 1]]\n"
     ]
    }
   ],
   "source": [
    "arr=[1,2,2,-1,3,-2,0,4,-4,4]\n",
    "res=[]\n",
    "arr.sort()\n",
    "print(arr)\n",
    "\n",
    "for i,a in enumerate(arr):\n",
    "    if i>0 and a==arr[i-1]:\n",
    "        continue\n",
    "\n",
    "    l,r=i+1,len(arr)-1\n",
    "    while l<r:\n",
    "        threesum=arr[i]+arr[l]+arr[r]\n",
    "        if threesum>0:\n",
    "            r-=1\n",
    "    \n",
    "        elif threesum<0:\n",
    "            l+=1\n",
    "    \n",
    "        else:\n",
    "            res.append([arr[i],arr[l],arr[r]])\n",
    "            l+=1\n",
    "            r-=1\n",
    "            while arr[l]==arr[l-1] and l<r:\n",
    "                l+=1\n",
    "            while arr[r]==arr[r-1] and l<r:\n",
    "                r-=1\n",
    "print(res)\n",
    "\n"
   ]
  },
  {
   "cell_type": "code",
   "execution_count": 5,
   "id": "d9b5fd16-b510-4467-b9c9-404a510d2d91",
   "metadata": {},
   "outputs": [
    {
     "name": "stdout",
     "output_type": "stream",
     "text": [
      "a2b2c3a\n"
     ]
    }
   ],
   "source": [
    "s=\"aabbccca\"\n",
    "count=1\n",
    "#l=list(s)\n",
    "#print(l)\n",
    "res=\"\"\n",
    "for i in range(1,len(s)):\n",
    "    \n",
    "    if s[i]==s[i-1]:\n",
    "        count+=1\n",
    "    else:\n",
    "        if count>1:\n",
    "            res+=s[i-1]+str(count)\n",
    "        count=1\n",
    "        \n",
    "if count>1:\n",
    "    res+=s[-1]+str(count)\n",
    "else:\n",
    "    res+=s[-1]\n",
    "    \n",
    "    \n",
    "       \n",
    "    \n",
    "   \n",
    "print(res)"
   ]
  },
  {
   "cell_type": "code",
   "execution_count": null,
   "id": "c7367a30-08e2-4473-bae0-cfdc2057b927",
   "metadata": {},
   "outputs": [],
   "source": []
  }
 ],
 "metadata": {
  "kernelspec": {
   "display_name": "Python 3 (ipykernel)",
   "language": "python",
   "name": "python3"
  },
  "language_info": {
   "codemirror_mode": {
    "name": "ipython",
    "version": 3
   },
   "file_extension": ".py",
   "mimetype": "text/x-python",
   "name": "python",
   "nbconvert_exporter": "python",
   "pygments_lexer": "ipython3",
   "version": "3.11.9"
  }
 },
 "nbformat": 4,
 "nbformat_minor": 5
}
