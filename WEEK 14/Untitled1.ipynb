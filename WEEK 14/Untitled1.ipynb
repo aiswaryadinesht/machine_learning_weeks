{
 "cells": [
  {
   "cell_type": "code",
   "execution_count": 14,
   "id": "44e784d0-5ede-4f0f-ac02-89c4dba50436",
   "metadata": {},
   "outputs": [
    {
     "name": "stdout",
     "output_type": "stream",
     "text": [
      "<class 'pandas.core.frame.DataFrame'>\n",
      "RangeIndex: 2500 entries, 0 to 2499\n",
      "Data columns (total 15 columns):\n",
      " #   Column       Non-Null Count  Dtype  \n",
      "---  ------       --------------  -----  \n",
      " 0   Unnamed: 0   2500 non-null   int64  \n",
      " 1   Player       2500 non-null   object \n",
      " 2   Span         2500 non-null   object \n",
      " 3   Mat          2500 non-null   int64  \n",
      " 4   Inns         2500 non-null   object \n",
      " 5   NO           2500 non-null   object \n",
      " 6   Runs         2500 non-null   object \n",
      " 7   HS           2500 non-null   object \n",
      " 8   Ave          2500 non-null   object \n",
      " 9   BF           2500 non-null   object \n",
      " 10  SR           2500 non-null   object \n",
      " 11  100          2500 non-null   object \n",
      " 12  50           2500 non-null   object \n",
      " 13  0            2500 non-null   object \n",
      " 14  Unnamed: 13  0 non-null      float64\n",
      "dtypes: float64(1), int64(2), object(12)\n",
      "memory usage: 293.1+ KB\n"
     ]
    },
    {
     "data": {
      "text/plain": [
       "Unnamed: 0        0\n",
       "Player            0\n",
       "Span              0\n",
       "Mat               0\n",
       "Inns              0\n",
       "NO                0\n",
       "Runs              0\n",
       "HS                0\n",
       "Ave               0\n",
       "BF                0\n",
       "SR                0\n",
       "100               0\n",
       "50                0\n",
       "0                 0\n",
       "Unnamed: 13    2500\n",
       "dtype: int64"
      ]
     },
     "execution_count": 14,
     "metadata": {},
     "output_type": "execute_result"
    }
   ],
   "source": [
    "import pandas as pd\n",
    "\n",
    "# Load the dataset\n",
    "df = pd.read_csv('cricket.csv')\n",
    "\n",
    "# Get basic information about the dataset\n",
    "df.info()\n",
    "\n",
    "# Preview the first few rows of the dataset\n",
    "df.head()\n",
    "df.isnull().sum()"
   ]
  },
  {
   "cell_type": "code",
   "execution_count": 15,
   "id": "0f492f62-247a-4b41-b35b-2a3ce3de36a9",
   "metadata": {},
   "outputs": [
    {
     "data": {
      "text/plain": [
       "0    200.0\n",
       "1    169.0\n",
       "2    164.0\n",
       "3    189.0\n",
       "4    144.0\n",
       "Name: HS, dtype: float64"
      ]
     },
     "execution_count": 15,
     "metadata": {},
     "output_type": "execute_result"
    }
   ],
   "source": [
    "# Ensure that 'HS' is treated as a string before applying the replace method\n",
    "# This handles cases where 'HS' might have missing (None/NaN) values\n",
    "df['HS'] = df['HS'].astype(str).str.replace('*', '', regex=False).replace('-', np.nan)\n",
    "\n",
    "# Convert 'HS' to numeric, with errors='coerce' to handle non-convertible entries\n",
    "df['HS'] = pd.to_numeric(df['HS'], errors='coerce')\n",
    "\n",
    "# Verify the result\n",
    "df['HS'].head()\n"
   ]
  },
  {
   "cell_type": "code",
   "execution_count": 16,
   "id": "0e94fba1-bd17-4743-afa0-52884f3253f1",
   "metadata": {},
   "outputs": [
    {
     "ename": "TypeError",
     "evalue": "'NoneType' object is not subscriptable",
     "output_type": "error",
     "traceback": [
      "\u001b[1;31m---------------------------------------------------------------------------\u001b[0m",
      "\u001b[1;31mTypeError\u001b[0m                                 Traceback (most recent call last)",
      "Cell \u001b[1;32mIn[16], line 9\u001b[0m\n\u001b[0;32m      3\u001b[0m \u001b[38;5;28;01mimport\u001b[39;00m \u001b[38;5;21;01mnumpy\u001b[39;00m \u001b[38;5;28;01mas\u001b[39;00m \u001b[38;5;21;01mnp\u001b[39;00m\n\u001b[0;32m      5\u001b[0m \u001b[38;5;66;03m# Replace '-' with NaN for columns where '-' is found\u001b[39;00m\n\u001b[0;32m      6\u001b[0m \u001b[38;5;66;03m#df.replace('-', np.nan, inplace=True)\u001b[39;00m\n\u001b[0;32m      7\u001b[0m \n\u001b[0;32m      8\u001b[0m \u001b[38;5;66;03m# Convert columns with numeric data to proper numeric types\u001b[39;00m\n\u001b[1;32m----> 9\u001b[0m df[\u001b[38;5;124m'\u001b[39m\u001b[38;5;124mInns\u001b[39m\u001b[38;5;124m'\u001b[39m] \u001b[38;5;241m=\u001b[39m pd\u001b[38;5;241m.\u001b[39mto_numeric(\u001b[43mdf\u001b[49m\u001b[43m[\u001b[49m\u001b[38;5;124;43m'\u001b[39;49m\u001b[38;5;124;43mInns\u001b[39;49m\u001b[38;5;124;43m'\u001b[39;49m\u001b[43m]\u001b[49m, errors\u001b[38;5;241m=\u001b[39m\u001b[38;5;124m'\u001b[39m\u001b[38;5;124mcoerce\u001b[39m\u001b[38;5;124m'\u001b[39m)\n\u001b[0;32m     10\u001b[0m df[\u001b[38;5;124m'\u001b[39m\u001b[38;5;124mNO\u001b[39m\u001b[38;5;124m'\u001b[39m] \u001b[38;5;241m=\u001b[39m pd\u001b[38;5;241m.\u001b[39mto_numeric(df[\u001b[38;5;124m'\u001b[39m\u001b[38;5;124mNO\u001b[39m\u001b[38;5;124m'\u001b[39m], errors\u001b[38;5;241m=\u001b[39m\u001b[38;5;124m'\u001b[39m\u001b[38;5;124mcoerce\u001b[39m\u001b[38;5;124m'\u001b[39m)\n\u001b[0;32m     11\u001b[0m df[\u001b[38;5;124m'\u001b[39m\u001b[38;5;124mRuns\u001b[39m\u001b[38;5;124m'\u001b[39m] \u001b[38;5;241m=\u001b[39m pd\u001b[38;5;241m.\u001b[39mto_numeric(df[\u001b[38;5;124m'\u001b[39m\u001b[38;5;124mRuns\u001b[39m\u001b[38;5;124m'\u001b[39m], errors\u001b[38;5;241m=\u001b[39m\u001b[38;5;124m'\u001b[39m\u001b[38;5;124mcoerce\u001b[39m\u001b[38;5;124m'\u001b[39m)\n",
      "\u001b[1;31mTypeError\u001b[0m: 'NoneType' object is not subscriptable"
     ]
    }
   ],
   "source": [
    "# Drop the unnamed column\n",
    "df = df.drop(['Unnamed: 0','Unnamed: 13'],axis=1,inplace=True)\n",
    "import numpy as np\n",
    "\n",
    "# Replace '-' with NaN for columns where '-' is found\n",
    "df.replace('-', np.nan, inplace=True)\n",
    "\n",
    "# Convert columns with numeric data to proper numeric types\n",
    "df['Inns'] = pd.to_numeric(df['Inns'], errors='coerce')\n",
    "df['NO'] = pd.to_numeric(df['NO'], errors='coerce')\n",
    "df['Runs'] = pd.to_numeric(df['Runs'], errors='coerce')\n",
    "df['HS'] = df['HS'].str.replace('*', '', regex=False).replace('-', np.nan).astype(float)  # Remove asterisk in HS\n",
    "df['HS'] = pd.to_numeric(df['HS'], errors='coerce')\n",
    "\n",
    "df['Ave'] = pd.to_numeric(df['Ave'], errors='coerce')\n",
    "df['BF'] = pd.to_numeric(df['BF'], errors='coerce')\n",
    "df['SR'] = pd.to_numeric(df['SR'], errors='coerce')\n",
    "df['100'] = pd.to_numeric(df['100'], errors='coerce')\n",
    "df['50'] = pd.to_numeric(df['50'], errors='coerce')\n",
    "df['0'] = pd.to_numeric(df['0'], errors='coerce')\n",
    "\n",
    "# Verify the data cleaning process\n",
    "df.info()\n"
   ]
  },
  {
   "cell_type": "code",
   "execution_count": null,
   "id": "fb39b9df-2930-4ae2-a580-a9250dd8b415",
   "metadata": {},
   "outputs": [],
   "source": [
    "# Check for missing values\n",
    "df.isnull().sum()\n",
    "\n",
    "# Fill missing values in columns where appropriate\n",
    "df['Ave'].fillna(df['Ave'].mean(), inplace=True)\n"
   ]
  },
  {
   "cell_type": "code",
   "execution_count": null,
   "id": "f49e94d1-3fc9-4a05-b6ba-509aaad417b4",
   "metadata": {},
   "outputs": [],
   "source": []
  }
 ],
 "metadata": {
  "kernelspec": {
   "display_name": "Python 3 (ipykernel)",
   "language": "python",
   "name": "python3"
  },
  "language_info": {
   "codemirror_mode": {
    "name": "ipython",
    "version": 3
   },
   "file_extension": ".py",
   "mimetype": "text/x-python",
   "name": "python",
   "nbconvert_exporter": "python",
   "pygments_lexer": "ipython3",
   "version": "3.11.9"
  }
 },
 "nbformat": 4,
 "nbformat_minor": 5
}
