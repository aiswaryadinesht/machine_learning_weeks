{
 "cells": [
  {
   "cell_type": "code",
   "execution_count": 6,
   "id": "3a666507-047b-429c-af26-56b8009c661c",
   "metadata": {},
   "outputs": [
    {
     "name": "stdout",
     "output_type": "stream",
     "text": [
      "      Unnamed: 0                       Player       Span  Mat Inns  NO   Runs  \\\n",
      "0              0         SR Tendulkar (INDIA)  1989-2012  463  452  41  18426   \n",
      "1              1  KC Sangakkara (Asia/ICC/SL)  2000-2015  404  380  41  14234   \n",
      "2              2         RT Ponting (AUS/ICC)  1995-2012  375  365  39  13704   \n",
      "3              3      ST Jayasuriya (Asia/SL)  1989-2011  445  433  18  13430   \n",
      "4              4   DPMD Jayawardene (Asia/SL)  1998-2015  448  418  39  12650   \n",
      "...          ...                          ...        ...  ...  ...  ..    ...   \n",
      "2495          45              ZS Ansari (ENG)  2015-2015    1    -   -      -   \n",
      "2496          46         Ariful Haque (BDESH)  2018-2018    1    -   -      -   \n",
      "2497          47           Ashfaq Ahmed (PAK)  1994-1994    3    -   -      -   \n",
      "2498          48               MD Bailey (NZ)  1998-1998    1    -   -      -   \n",
      "2499          49               GR Beard (AUS)  1981-1981    2    -   -      -   \n",
      "\n",
      "        HS    Ave     BF     SR 100  50   0  Unnamed: 13  \n",
      "0     200*  44.83  21367  86.23  49  96  20          NaN  \n",
      "1      169  41.98  18048  78.86  25  93  15          NaN  \n",
      "2      164  42.03  17046  80.39  30  82  20          NaN  \n",
      "3      189  32.36  14725   91.2  28  68  34          NaN  \n",
      "4      144  33.37  16020  78.96  19  77  28          NaN  \n",
      "...    ...    ...    ...    ...  ..  ..  ..          ...  \n",
      "2495     -      -      -      -   -   -   -          NaN  \n",
      "2496     -      -      -      -   -   -   -          NaN  \n",
      "2497     -      -      -      -   -   -   -          NaN  \n",
      "2498     -      -      -      -   -   -   -          NaN  \n",
      "2499     -      -      -      -   -   -   -          NaN  \n",
      "\n",
      "[2500 rows x 15 columns]\n"
     ]
    }
   ],
   "source": [
    "import pandas as pd\n",
    "import matplotlib.pyplot as plt\n",
    "import seaborn as sns\n",
    "import numpy as np\n",
    "\n",
    "cricket_df=pd.read_csv(\"cricket.csv\")\n",
    "print(cricket_df)"
   ]
  },
  {
   "cell_type": "code",
   "execution_count": 7,
   "id": "6c424440-1b00-4ab0-ae5b-635e7bc6837d",
   "metadata": {},
   "outputs": [
    {
     "name": "stdout",
     "output_type": "stream",
     "text": [
      "['Unnamed: 0', 'Player', 'Span', 'Mat', 'Inns', 'NO', 'Runs', 'HS', 'Ave', 'BF', 'SR', '100', '50', '0', 'Unnamed: 13']\n"
     ]
    }
   ],
   "source": [
    "print(list(cricket_df.columns))"
   ]
  },
  {
   "cell_type": "code",
   "execution_count": 8,
   "id": "9502c6b4-0e9c-40db-a4da-2c6644118284",
   "metadata": {},
   "outputs": [
    {
     "name": "stdout",
     "output_type": "stream",
     "text": [
      "                        Player       Span  Mat Inns  NO   Runs    HS    Ave  \\\n",
      "0         SR Tendulkar (INDIA)  1989-2012  463  452  41  18426  200*  44.83   \n",
      "1  KC Sangakkara (Asia/ICC/SL)  2000-2015  404  380  41  14234   169  41.98   \n",
      "2         RT Ponting (AUS/ICC)  1995-2012  375  365  39  13704   164  42.03   \n",
      "3      ST Jayasuriya (Asia/SL)  1989-2011  445  433  18  13430   189  32.36   \n",
      "4   DPMD Jayawardene (Asia/SL)  1998-2015  448  418  39  12650   144  33.37   \n",
      "\n",
      "      BF     SR 100  50   0  \n",
      "0  21367  86.23  49  96  20  \n",
      "1  18048  78.86  25  93  15  \n",
      "2  17046  80.39  30  82  20  \n",
      "3  14725   91.2  28  68  34  \n",
      "4  16020  78.96  19  77  28  \n"
     ]
    }
   ],
   "source": [
    "cricket_df.drop(['Unnamed: 0','Unnamed: 13'],axis=1,inplace=True)\n",
    "print(cricket_df.head())"
   ]
  },
  {
   "cell_type": "code",
   "execution_count": 9,
   "id": "a71a500f-59d9-4035-bf08-3fd06cf6a97e",
   "metadata": {},
   "outputs": [],
   "source": [
    "df=cricket_df"
   ]
  },
  {
   "cell_type": "code",
   "execution_count": 10,
   "id": "653b3404-a50d-44ae-a409-6c4c7f85a169",
   "metadata": {},
   "outputs": [
    {
     "name": "stdout",
     "output_type": "stream",
     "text": [
      "                           Player       Span  Mat Inns  NO   Runs    HS  \\\n",
      "0            SR Tendulkar (INDIA)  1989-2012  463  452  41  18426  200*   \n",
      "1     KC Sangakkara (Asia/ICC/SL)  2000-2015  404  380  41  14234   169   \n",
      "2            RT Ponting (AUS/ICC)  1995-2012  375  365  39  13704   164   \n",
      "3         ST Jayasuriya (Asia/SL)  1989-2011  445  433  18  13430   189   \n",
      "4      DPMD Jayawardene (Asia/SL)  1998-2015  448  418  39  12650   144   \n",
      "...                           ...        ...  ...  ...  ..    ...   ...   \n",
      "2495              ZS Ansari (ENG)  2015-2015    1    -   -      -     -   \n",
      "2496         Ariful Haque (BDESH)  2018-2018    1    -   -      -     -   \n",
      "2497           Ashfaq Ahmed (PAK)  1994-1994    3    -   -      -     -   \n",
      "2498               MD Bailey (NZ)  1998-1998    1    -   -      -     -   \n",
      "2499               GR Beard (AUS)  1981-1981    2    -   -      -     -   \n",
      "\n",
      "        Ave     BF     SR 100  50   0  \n",
      "0     44.83  21367  86.23  49  96  20  \n",
      "1     41.98  18048  78.86  25  93  15  \n",
      "2     42.03  17046  80.39  30  82  20  \n",
      "3     32.36  14725   91.2  28  68  34  \n",
      "4     33.37  16020  78.96  19  77  28  \n",
      "...     ...    ...    ...  ..  ..  ..  \n",
      "2495      -      -      -   -   -   -  \n",
      "2496      -      -      -   -   -   -  \n",
      "2497      -      -      -   -   -   -  \n",
      "2498      -      -      -   -   -   -  \n",
      "2499      -      -      -   -   -   -  \n",
      "\n",
      "[2500 rows x 13 columns]\n"
     ]
    }
   ],
   "source": [
    "print(df)"
   ]
  },
  {
   "cell_type": "code",
   "execution_count": 11,
   "id": "1b1f0f24-3191-48e3-8f51-283cdff30de7",
   "metadata": {},
   "outputs": [
    {
     "name": "stdout",
     "output_type": "stream",
     "text": [
      "                           Player       Span  Mat Inns  NO   Runs    HS  \\\n",
      "0            SR Tendulkar (INDIA)  1989-2012  463  452  41  18426  200*   \n",
      "1     KC Sangakkara (Asia/ICC/SL)  2000-2015  404  380  41  14234   169   \n",
      "2            RT Ponting (AUS/ICC)  1995-2012  375  365  39  13704   164   \n",
      "3         ST Jayasuriya (Asia/SL)  1989-2011  445  433  18  13430   189   \n",
      "4      DPMD Jayawardene (Asia/SL)  1998-2015  448  418  39  12650   144   \n",
      "...                           ...        ...  ...  ...  ..    ...   ...   \n",
      "2495              ZS Ansari (ENG)  2015-2015    1    -   -      -     -   \n",
      "2496         Ariful Haque (BDESH)  2018-2018    1    -   -      -     -   \n",
      "2497           Ashfaq Ahmed (PAK)  1994-1994    3    -   -      -     -   \n",
      "2498               MD Bailey (NZ)  1998-1998    1    -   -      -     -   \n",
      "2499               GR Beard (AUS)  1981-1981    2    -   -      -     -   \n",
      "\n",
      "        Ave     BF     SR 100  50   0              Name      Country  \n",
      "0     44.83  21367  86.23  49  96  20      SR Tendulkar        INDIA  \n",
      "1     41.98  18048  78.86  25  93  15     KC Sangakkara  Asia/ICC/SL  \n",
      "2     42.03  17046  80.39  30  82  20        RT Ponting      AUS/ICC  \n",
      "3     32.36  14725   91.2  28  68  34     ST Jayasuriya      Asia/SL  \n",
      "4     33.37  16020  78.96  19  77  28  DPMD Jayawardene      Asia/SL  \n",
      "...     ...    ...    ...  ..  ..  ..               ...          ...  \n",
      "2495      -      -      -   -   -   -         ZS Ansari          ENG  \n",
      "2496      -      -      -   -   -   -      Ariful Haque        BDESH  \n",
      "2497      -      -      -   -   -   -      Ashfaq Ahmed          PAK  \n",
      "2498      -      -      -   -   -   -         MD Bailey           NZ  \n",
      "2499      -      -      -   -   -   -          GR Beard          AUS  \n",
      "\n",
      "[2500 rows x 15 columns]\n"
     ]
    }
   ],
   "source": [
    "# Split 'Player' column by the first occurrence of '('\n",
    "df[['Name', 'Country']] = df['Player'].str.split(r'\\s*\\(', n=1, expand=True)\n",
    "\n",
    "# Fill missing values in 'Country' column with an empty string or appropriate value\n",
    "df['Country'] = df['Country'].fillna('').str.rstrip(')')\n",
    "\n",
    "# If you want to re-add parentheses for rows that have a country\n",
    "#df['Country'] = df['Country'].apply(lambda x: f'({x})' if x else '')\n",
    "\n",
    "print(df)"
   ]
  },
  {
   "cell_type": "code",
   "execution_count": 12,
   "id": "babdb3e2-ed03-4bf9-988a-e77108a535ce",
   "metadata": {},
   "outputs": [
    {
     "name": "stdout",
     "output_type": "stream",
     "text": [
      "                        Player       Span  Mat Inns  NO   Runs    HS    Ave  \\\n",
      "0         SR Tendulkar (INDIA)  1989-2012  463  452  41  18426  200*  44.83   \n",
      "1  KC Sangakkara (Asia/ICC/SL)  2000-2015  404  380  41  14234   169  41.98   \n",
      "2         RT Ponting (AUS/ICC)  1995-2012  375  365  39  13704   164  42.03   \n",
      "3      ST Jayasuriya (Asia/SL)  1989-2011  445  433  18  13430   189  32.36   \n",
      "4   DPMD Jayawardene (Asia/SL)  1998-2015  448  418  39  12650   144  33.37   \n",
      "\n",
      "      BF     SR 100  50   0              Name      Country firstname  \\\n",
      "0  21367  86.23  49  96  20      SR Tendulkar        INDIA        SR   \n",
      "1  18048  78.86  25  93  15     KC Sangakkara  Asia/ICC/SL        KC   \n",
      "2  17046  80.39  30  82  20        RT Ponting      AUS/ICC        RT   \n",
      "3  14725   91.2  28  68  34     ST Jayasuriya      Asia/SL        ST   \n",
      "4  16020  78.96  19  77  28  DPMD Jayawardene      Asia/SL      DPMD   \n",
      "\n",
      "       surname  \n",
      "0    Tendulkar  \n",
      "1   Sangakkara  \n",
      "2      Ponting  \n",
      "3   Jayasuriya  \n",
      "4  Jayawardene  \n"
     ]
    }
   ],
   "source": [
    "df[['firstname','surname']]=df['Name'].str.split(' ',n=1,expand=True)\n",
    "print(df.head())"
   ]
  },
  {
   "cell_type": "code",
   "execution_count": 13,
   "id": "e59c2e43-9065-440d-b700-1f51487219f4",
   "metadata": {},
   "outputs": [
    {
     "name": "stdout",
     "output_type": "stream",
     "text": [
      "                        Player       Span  Mat Inns  NO   Runs    HS    Ave  \\\n",
      "0         SR Tendulkar (INDIA)  1989-2012  463  452  41  18426  200*  44.83   \n",
      "1  KC Sangakkara (Asia/ICC/SL)  2000-2015  404  380  41  14234   169  41.98   \n",
      "2         RT Ponting (AUS/ICC)  1995-2012  375  365  39  13704   164  42.03   \n",
      "3      ST Jayasuriya (Asia/SL)  1989-2011  445  433  18  13430   189  32.36   \n",
      "4   DPMD Jayawardene (Asia/SL)  1998-2015  448  418  39  12650   144  33.37   \n",
      "\n",
      "      BF     SR 100  50   0              Name          Country firstname  \\\n",
      "0  21367  86.23  49  96  20      SR Tendulkar          [INDIA]        SR   \n",
      "1  18048  78.86  25  93  15     KC Sangakkara  [Asia, ICC, SL]        KC   \n",
      "2  17046  80.39  30  82  20        RT Ponting       [AUS, ICC]        RT   \n",
      "3  14725   91.2  28  68  34     ST Jayasuriya       [Asia, SL]        ST   \n",
      "4  16020  78.96  19  77  28  DPMD Jayawardene       [Asia, SL]      DPMD   \n",
      "\n",
      "       surname  \n",
      "0    Tendulkar  \n",
      "1   Sangakkara  \n",
      "2      Ponting  \n",
      "3   Jayasuriya  \n",
      "4  Jayawardene  \n"
     ]
    }
   ],
   "source": [
    "df['Country']=df['Country'].str.split(\"/\")\n",
    "print(df.head(5))"
   ]
  },
  {
   "cell_type": "code",
   "execution_count": 14,
   "id": "cca0c161-2a5a-4e96-b4a3-331d3d8ef410",
   "metadata": {},
   "outputs": [
    {
     "name": "stdout",
     "output_type": "stream",
     "text": [
      "Dataset shape: (2500, 17)\n",
      "\n",
      "Data types:\n",
      " Player       object\n",
      "Span         object\n",
      "Mat           int64\n",
      "Inns         object\n",
      "NO           object\n",
      "Runs         object\n",
      "HS           object\n",
      "Ave          object\n",
      "BF           object\n",
      "SR           object\n",
      "100          object\n",
      "50           object\n",
      "0            object\n",
      "Name         object\n",
      "Country      object\n",
      "firstname    object\n",
      "surname      object\n",
      "dtype: object\n",
      "\n",
      "Summary Statistics:\n",
      "                Mat\n",
      "count  2500.000000\n",
      "mean     37.161600\n",
      "std      58.885075\n",
      "min       1.000000\n",
      "25%       4.000000\n",
      "50%      13.000000\n",
      "75%      43.000000\n",
      "max     463.000000\n",
      "\n",
      "Missing Values:\n",
      " Player        0\n",
      "Span          0\n",
      "Mat           0\n",
      "Inns          0\n",
      "NO            0\n",
      "Runs          0\n",
      "HS            0\n",
      "Ave           0\n",
      "BF            0\n",
      "SR            0\n",
      "100           0\n",
      "50            0\n",
      "0             0\n",
      "Name          0\n",
      "Country       0\n",
      "firstname     0\n",
      "surname      22\n",
      "dtype: int64\n",
      "\n",
      "Missing Values:\n",
      " 0\n"
     ]
    }
   ],
   "source": [
    "# Check the shape of the dataset\n",
    "print(f\"Dataset shape: {df.shape}\")\n",
    "\n",
    "# Check the data types of each column\n",
    "print(\"\\nData types:\\n\",df.dtypes)\n",
    "\n",
    "# Summary statistics for numerical columns\n",
    "print(\"\\nSummary Statistics:\\n\",df.describe())\n",
    "\n",
    "# Checking for missing values\n",
    "print(\"\\nMissing Values:\\n\",df.isnull().sum())\n",
    "\n",
    "df=df['surname'].fillna('Unknown')\n",
    "\n",
    "print(\"\\nMissing Values:\\n\",df.isnull().sum())"
   ]
  },
  {
   "cell_type": "code",
   "execution_count": 3,
   "id": "7efd477e-9483-4951-a7b6-6f4a7f6351f8",
   "metadata": {},
   "outputs": [
    {
     "ename": "NameError",
     "evalue": "name 'df' is not defined",
     "output_type": "error",
     "traceback": [
      "\u001b[1;31m---------------------------------------------------------------------------\u001b[0m",
      "\u001b[1;31mNameError\u001b[0m                                 Traceback (most recent call last)",
      "Cell \u001b[1;32mIn[3], line 1\u001b[0m\n\u001b[1;32m----> 1\u001b[0m df[\u001b[38;5;124m'\u001b[39m\u001b[38;5;124mRuns\u001b[39m\u001b[38;5;124m'\u001b[39m]\u001b[38;5;241m=\u001b[39m\u001b[43mdf\u001b[49m[\u001b[38;5;124m'\u001b[39m\u001b[38;5;124mRuns\u001b[39m\u001b[38;5;124m'\u001b[39m]\u001b[38;5;241m.\u001b[39mastype(\u001b[38;5;28mint\u001b[39m)\n\u001b[0;32m      2\u001b[0m sns\u001b[38;5;241m.\u001b[39mhistplot(x\u001b[38;5;241m=\u001b[39m\u001b[38;5;124m'\u001b[39m\u001b[38;5;124mRuns\u001b[39m\u001b[38;5;124m'\u001b[39m,data\u001b[38;5;241m=\u001b[39mdf)\n\u001b[0;32m      3\u001b[0m plt\u001b[38;5;241m.\u001b[39mshow()\n",
      "\u001b[1;31mNameError\u001b[0m: name 'df' is not defined"
     ]
    }
   ],
   "source": [
    "df['Runs']=df['Runs'].astype(int)\n",
    "sns.histplot(x='Runs',data=df)\n",
    "plt.show()\n"
   ]
  },
  {
   "cell_type": "code",
   "execution_count": null,
   "id": "64a80863-6e15-4ea1-a38f-3c5acb73a3e2",
   "metadata": {},
   "outputs": [],
   "source": [
    "# Visualize the distribution of a numerical column (e.g., 'Runs')\n",
    "plt.figure(figsize=(10, 6))\n",
    "sns.histplot(df['Runs'], kde=True)\n",
    "plt.title('Distribution of Runs')\n",
    "plt.show()\n"
   ]
  },
  {
   "cell_type": "code",
   "execution_count": null,
   "id": "ace6416b-77f7-4324-a551-8c0e7c033b51",
   "metadata": {},
   "outputs": [],
   "source": [
    "#plt.figure(figsize=(10, 6))\n",
    "sns.scatterplot(x='Runs', y='Inns', data=df)\n",
    "plt.title('Runs vs Average')\n",
    "plt.show()"
   ]
  },
  {
   "cell_type": "code",
   "execution_count": null,
   "id": "052d08d3-297d-4cd1-9ee7-e07164e813ae",
   "metadata": {},
   "outputs": [],
   "source": []
  },
  {
   "cell_type": "code",
   "execution_count": null,
   "id": "696881cb-9b91-4b0d-9fcc-8fb114ee73aa",
   "metadata": {},
   "outputs": [],
   "source": []
  },
  {
   "cell_type": "code",
   "execution_count": null,
   "id": "ed52be5f-2cb7-49bd-8ec4-1a0638d01a04",
   "metadata": {},
   "outputs": [],
   "source": []
  },
  {
   "cell_type": "code",
   "execution_count": null,
   "id": "e8aaa236-aa0b-4536-93c5-06424d1a6308",
   "metadata": {},
   "outputs": [],
   "source": []
  },
  {
   "cell_type": "code",
   "execution_count": null,
   "id": "395f4e26-fa33-4f0b-863b-b13baf6d2b3e",
   "metadata": {},
   "outputs": [],
   "source": []
  },
  {
   "cell_type": "code",
   "execution_count": null,
   "id": "cb813544-7f47-45da-ba92-d177c2e09cda",
   "metadata": {},
   "outputs": [],
   "source": []
  },
  {
   "cell_type": "code",
   "execution_count": null,
   "id": "76a3d8bd-2318-4e02-8725-de610cba691d",
   "metadata": {},
   "outputs": [],
   "source": []
  },
  {
   "cell_type": "code",
   "execution_count": null,
   "id": "f08e55a8-8b24-4eed-a2d8-c1cb6d3b3b89",
   "metadata": {},
   "outputs": [],
   "source": []
  },
  {
   "cell_type": "code",
   "execution_count": null,
   "id": "c895055d-7b26-41a6-a3f4-f83175dc1e7d",
   "metadata": {},
   "outputs": [],
   "source": []
  },
  {
   "cell_type": "code",
   "execution_count": null,
   "id": "cb663409-9166-48a1-a48b-3fa9984ad8fb",
   "metadata": {},
   "outputs": [],
   "source": []
  }
 ],
 "metadata": {
  "kernelspec": {
   "display_name": "Python 3 (ipykernel)",
   "language": "python",
   "name": "python3"
  },
  "language_info": {
   "codemirror_mode": {
    "name": "ipython",
    "version": 3
   },
   "file_extension": ".py",
   "mimetype": "text/x-python",
   "name": "python",
   "nbconvert_exporter": "python",
   "pygments_lexer": "ipython3",
   "version": "3.11.9"
  }
 },
 "nbformat": 4,
 "nbformat_minor": 5
}
