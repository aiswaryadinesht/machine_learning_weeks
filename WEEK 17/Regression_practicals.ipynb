{
 "cells": [
  {
   "cell_type": "code",
   "execution_count": 14,
   "id": "6d304eea-8044-4446-b652-467232115509",
   "metadata": {},
   "outputs": [
    {
     "name": "stdout",
     "output_type": "stream",
     "text": [
      "      price  area  bedrooms  bathrooms  stories mainroad guestroom basement  \\\n",
      "0  13300000  7420         4          2        3      yes        no       no   \n",
      "1  12250000  8960         4          4        4      yes        no       no   \n",
      "2  12250000  9960         3          2        2      yes        no      yes   \n",
      "3  12215000  7500         4          2        2      yes        no      yes   \n",
      "4  11410000  7420         4          1        2      yes       yes      yes   \n",
      "\n",
      "  hotwaterheating airconditioning  parking prefarea furnishingstatus  \n",
      "0              no             yes        2      yes        furnished  \n",
      "1              no             yes        3       no        furnished  \n",
      "2              no              no        2      yes   semi-furnished  \n",
      "3              no             yes        3      yes        furnished  \n",
      "4              no             yes        2       no        furnished  \n",
      "price               0\n",
      "area                0\n",
      "bedrooms            0\n",
      "bathrooms           0\n",
      "stories             0\n",
      "mainroad            0\n",
      "guestroom           0\n",
      "basement            0\n",
      "hotwaterheating     0\n",
      "airconditioning     0\n",
      "parking             0\n",
      "prefarea            0\n",
      "furnishingstatus    0\n",
      "dtype: int64\n",
      "<class 'pandas.core.frame.DataFrame'>\n",
      "RangeIndex: 545 entries, 0 to 544\n",
      "Data columns (total 13 columns):\n",
      " #   Column            Non-Null Count  Dtype \n",
      "---  ------            --------------  ----- \n",
      " 0   price             545 non-null    int64 \n",
      " 1   area              545 non-null    int64 \n",
      " 2   bedrooms          545 non-null    int64 \n",
      " 3   bathrooms         545 non-null    int64 \n",
      " 4   stories           545 non-null    int64 \n",
      " 5   mainroad          545 non-null    object\n",
      " 6   guestroom         545 non-null    object\n",
      " 7   basement          545 non-null    object\n",
      " 8   hotwaterheating   545 non-null    object\n",
      " 9   airconditioning   545 non-null    object\n",
      " 10  parking           545 non-null    int64 \n",
      " 11  prefarea          545 non-null    object\n",
      " 12  furnishingstatus  545 non-null    object\n",
      "dtypes: int64(6), object(7)\n",
      "memory usage: 55.5+ KB\n",
      "None\n"
     ]
    }
   ],
   "source": [
    "import pandas as pd\n",
    "\n",
    "# Load the dataset\n",
    "file_path = 'Housing.csv'\n",
    "data = pd.read_csv(file_path)\n",
    "\n",
    "# Display the first few rows of the dataset\n",
    "print(data.head())\n",
    "\n",
    "# Check for any missing values\n",
    "print(data.isnull().sum())\n",
    "\n",
    "# Display dataset information\n",
    "print(data.info())\n"
   ]
  },
  {
   "cell_type": "code",
   "execution_count": 15,
   "id": "5abb2dc9-3270-4e6e-bafb-224a5b9ee2f3",
   "metadata": {},
   "outputs": [],
   "source": [
    "from sklearn.model_selection import train_test_split\n",
    "from sklearn.preprocessing import StandardScaler\n",
    "\n",
    "# Assuming the target variable is 'price' (modify if different)\n",
    "target_column = 'price'\n",
    "\n",
    "# Separate features and target\n",
    "X = data.drop(columns=[target_column])\n",
    "y = data[target_column]\n",
    "\n",
    "# One-hot encode categorical features (if any)\n",
    "X = pd.get_dummies(X, drop_first=True)\n",
    "\n",
    "# Split into training and test sets\n",
    "X_train, X_test, y_train, y_test = train_test_split(X, y, test_size=0.2, random_state=42)\n",
    "\n",
    "# Standardize the data (optional, but helpful for Ridge Regression)\n",
    "scaler = StandardScaler()\n",
    "X_train = scaler.fit_transform(X_train)\n",
    "X_test = scaler.transform(X_test)\n"
   ]
  },
  {
   "cell_type": "code",
   "execution_count": 16,
   "id": "1bc97d32-c281-46e8-9001-6ee633dfdb2d",
   "metadata": {},
   "outputs": [
    {
     "name": "stdout",
     "output_type": "stream",
     "text": [
      "     area  bedrooms  bathrooms  stories  parking  mainroad_yes  guestroom_yes  \\\n",
      "0    7420         4          2        3        2          True          False   \n",
      "1    8960         4          4        4        3          True          False   \n",
      "2    9960         3          2        2        2          True          False   \n",
      "3    7500         4          2        2        3          True          False   \n",
      "4    7420         4          1        2        2          True           True   \n",
      "..    ...       ...        ...      ...      ...           ...            ...   \n",
      "540  3000         2          1        1        2          True          False   \n",
      "541  2400         3          1        1        0         False          False   \n",
      "542  3620         2          1        1        0          True          False   \n",
      "543  2910         3          1        1        0         False          False   \n",
      "544  3850         3          1        2        0          True          False   \n",
      "\n",
      "     basement_yes  hotwaterheating_yes  airconditioning_yes  prefarea_yes  \\\n",
      "0           False                False                 True          True   \n",
      "1           False                False                 True         False   \n",
      "2            True                False                False          True   \n",
      "3            True                False                 True          True   \n",
      "4            True                False                 True         False   \n",
      "..            ...                  ...                  ...           ...   \n",
      "540          True                False                False         False   \n",
      "541         False                False                False         False   \n",
      "542         False                False                False         False   \n",
      "543         False                False                False         False   \n",
      "544         False                False                False         False   \n",
      "\n",
      "     furnishingstatus_semi-furnished  furnishingstatus_unfurnished  \n",
      "0                              False                         False  \n",
      "1                              False                         False  \n",
      "2                               True                         False  \n",
      "3                              False                         False  \n",
      "4                              False                         False  \n",
      "..                               ...                           ...  \n",
      "540                            False                          True  \n",
      "541                             True                         False  \n",
      "542                            False                          True  \n",
      "543                            False                         False  \n",
      "544                            False                          True  \n",
      "\n",
      "[545 rows x 13 columns]\n"
     ]
    }
   ],
   "source": [
    "print(X)"
   ]
  },
  {
   "cell_type": "code",
   "execution_count": 17,
   "id": "3782f337-c390-4aa1-b1f2-f692d4103ad7",
   "metadata": {},
   "outputs": [
    {
     "name": "stdout",
     "output_type": "stream",
     "text": [
      "Linear Regression Results:\n",
      "Mean Squared Error: 1754318687330.668\n",
      "R^2 Score: 0.6529242642153176\n"
     ]
    }
   ],
   "source": [
    "from sklearn.linear_model import LinearRegression\n",
    "from sklearn.metrics import mean_squared_error, r2_score\n",
    "\n",
    "# Initialize and train the model\n",
    "linear_model = LinearRegression()\n",
    "linear_model.fit(X_train, y_train)\n",
    "\n",
    "# Predictions\n",
    "y_pred_linear = linear_model.predict(X_test)\n",
    "\n",
    "# Evaluation\n",
    "mse_linear = mean_squared_error(y_test, y_pred_linear)\n",
    "r2_linear = r2_score(y_test, y_pred_linear)\n",
    "\n",
    "print(\"Linear Regression Results:\")\n",
    "print(f\"Mean Squared Error: {mse_linear}\")\n",
    "print(f\"R^2 Score: {r2_linear}\")\n"
   ]
  },
  {
   "cell_type": "code",
   "execution_count": 18,
   "id": "ff360275-2dd0-4acf-adf6-acc5b97cd26b",
   "metadata": {},
   "outputs": [
    {
     "name": "stdout",
     "output_type": "stream",
     "text": [
      "Ridge Regression Results:\n",
      "Mean Squared Error: 1754839327446.8064\n",
      "R^2 Score: 0.6528212603810126\n"
     ]
    }
   ],
   "source": [
    "from sklearn.linear_model import Ridge\n",
    "\n",
    "# Initialize and train the model with a regularization parameter alpha\n",
    "ridge_model = Ridge(alpha=1.0)\n",
    "ridge_model.fit(X_train, y_train)\n",
    "\n",
    "# Predictions\n",
    "y_pred_ridge = ridge_model.predict(X_test)\n",
    "\n",
    "# Evaluation\n",
    "mse_ridge = mean_squared_error(y_test, y_pred_ridge)\n",
    "r2_ridge = r2_score(y_test, y_pred_ridge)\n",
    "\n",
    "print(\"Ridge Regression Results:\")\n",
    "print(f\"Mean Squared Error: {mse_ridge}\")\n",
    "print(f\"R^2 Score: {r2_ridge}\")\n"
   ]
  },
  {
   "cell_type": "code",
   "execution_count": 19,
   "id": "eace5ec9-f65b-4913-a8f4-90b10edca9d5",
   "metadata": {},
   "outputs": [
    {
     "name": "stdout",
     "output_type": "stream",
     "text": [
      "Decision Tree Regression Results:\n",
      "Mean Squared Error: 2701167171509.852\n",
      "R^2 Score: 0.46559904406211106\n"
     ]
    }
   ],
   "source": [
    "from sklearn.tree import DecisionTreeRegressor\n",
    "\n",
    "# Initialize and train the model\n",
    "tree_model = DecisionTreeRegressor(max_depth=5, random_state=42)\n",
    "tree_model.fit(X_train, y_train)\n",
    "\n",
    "# Predictions\n",
    "y_pred_tree = tree_model.predict(X_test)\n",
    "\n",
    "# Evaluation\n",
    "mse_tree = mean_squared_error(y_test, y_pred_tree)\n",
    "r2_tree = r2_score(y_test, y_pred_tree)\n",
    "\n",
    "print(\"Decision Tree Regression Results:\")\n",
    "print(f\"Mean Squared Error: {mse_tree}\")\n",
    "print(f\"R^2 Score: {r2_tree}\")\n"
   ]
  },
  {
   "cell_type": "code",
   "execution_count": 20,
   "id": "db9fecc8-09c2-4cb6-8eae-f279a03d4346",
   "metadata": {},
   "outputs": [
    {
     "name": "stdout",
     "output_type": "stream",
     "text": [
      "Model Performance Comparison:\n",
      "Linear Regression - MSE: 1754318687330.668, R^2: 0.6529242642153176\n",
      "Ridge Regression - MSE: 1754839327446.8064, R^2: 0.6528212603810126\n",
      "Decision Tree Regression - MSE: 2701167171509.852, R^2: 0.46559904406211106\n"
     ]
    }
   ],
   "source": [
    "print(\"Model Performance Comparison:\")\n",
    "print(f\"Linear Regression - MSE: {mse_linear}, R^2: {r2_linear}\")\n",
    "print(f\"Ridge Regression - MSE: {mse_ridge}, R^2: {r2_ridge}\")\n",
    "print(f\"Decision Tree Regression - MSE: {mse_tree}, R^2: {r2_tree}\")\n"
   ]
  },
  {
   "cell_type": "code",
   "execution_count": 22,
   "id": "d5215e9f-e426-4744-a010-5bc34a76c4bc",
   "metadata": {},
   "outputs": [
    {
     "name": "stdout",
     "output_type": "stream",
     "text": [
      "Linear Regression MSE: 25280545834691.613\n"
     ]
    }
   ],
   "source": [
    "import numpy as np\n",
    "class LinearRegressionScratch:\n",
    "    def fit(self, X, y):\n",
    "        # Use the Normal Equation: w = (X^T * X)^-1 * X^T * y\n",
    "        X_transpose = X.T\n",
    "        self.weights = np.linalg.inv(X_transpose.dot(X)).dot(X_transpose).dot(y)\n",
    "        \n",
    "    def predict(self, X):\n",
    "        return X.dot(self.weights)\n",
    "\n",
    "# Train and evaluate the model\n",
    "linear_model = LinearRegressionScratch()\n",
    "linear_model.fit(X_train, y_train)\n",
    "\n",
    "# Predictions\n",
    "y_pred_linear = linear_model.predict(X_test)\n",
    "\n",
    "# Calculate MSE\n",
    "mse_linear = np.mean((y_pred_linear - y_test) ** 2)\n",
    "print(f\"Linear Regression MSE: {mse_linear}\")\n"
   ]
  },
  {
   "cell_type": "code",
   "execution_count": 23,
   "id": "3eb44982-ae04-404f-9c76-7b1556bf5dce",
   "metadata": {},
   "outputs": [
    {
     "name": "stdout",
     "output_type": "stream",
     "text": [
      "Ridge Regression MSE: 25283175553767.258\n"
     ]
    }
   ],
   "source": [
    "class RidgeRegressionScratch:\n",
    "    def __init__(self, alpha=1.0):\n",
    "        self.alpha = alpha\n",
    "\n",
    "    def fit(self, X, y):\n",
    "        # Use the modified Normal Equation: w = (X^T * X + alpha * I)^-1 * X^T * y\n",
    "        X_transpose = X.T\n",
    "        identity_matrix = np.eye(X.shape[1])\n",
    "        self.weights = np.linalg.inv(X_transpose.dot(X) + self.alpha * identity_matrix).dot(X_transpose).dot(y)\n",
    "\n",
    "    def predict(self, X):\n",
    "        return X.dot(self.weights)\n",
    "\n",
    "# Train and evaluate the Ridge Regression model\n",
    "ridge_model = RidgeRegressionScratch(alpha=1.0)\n",
    "ridge_model.fit(X_train, y_train)\n",
    "\n",
    "# Predictions\n",
    "y_pred_ridge = ridge_model.predict(X_test)\n",
    "\n",
    "# Calculate MSE\n",
    "mse_ridge = np.mean((y_pred_ridge - y_test) ** 2)\n",
    "print(f\"Ridge Regression MSE: {mse_ridge}\")\n"
   ]
  },
  {
   "cell_type": "code",
   "execution_count": null,
   "id": "27403d40-3a4d-414c-a0ad-7a0f02e38cb5",
   "metadata": {},
   "outputs": [],
   "source": []
  }
 ],
 "metadata": {
  "kernelspec": {
   "display_name": "Python 3 (ipykernel)",
   "language": "python",
   "name": "python3"
  },
  "language_info": {
   "codemirror_mode": {
    "name": "ipython",
    "version": 3
   },
   "file_extension": ".py",
   "mimetype": "text/x-python",
   "name": "python",
   "nbconvert_exporter": "python",
   "pygments_lexer": "ipython3",
   "version": "3.11.9"
  }
 },
 "nbformat": 4,
 "nbformat_minor": 5
}
