{
 "cells": [
  {
   "cell_type": "code",
   "execution_count": 18,
   "id": "415565e6-8f4b-4248-ab81-2babcf792830",
   "metadata": {},
   "outputs": [
    {
     "name": "stdout",
     "output_type": "stream",
     "text": [
      "Slope: -6.333027741462543e+36, Intercept: -4.7497711029574347e+33\n",
      "Predicted house prices: [-3.79982139e+39 -5.06642694e+39 -6.33303249e+39 -7.59963804e+39\n",
      " -8.86624359e+39 -1.01328491e+40 -1.13994547e+40]\n"
     ]
    }
   ],
   "source": [
    "import numpy as np\n",
    "\n",
    "# Gradient Descent Function\n",
    "def gradient_descent(X, y, learning_rate=0.000001, epochs=100):\n",
    "    m, b = 0, 0  # Initialize slope and intercept\n",
    "    n = len(y)  # Number of data points\n",
    "\n",
    "    for _ in range(epochs):\n",
    "        y_pred = m * X + b\n",
    "        D_m = (-2 / n) * sum(X * (y - y_pred))  # Derivative with respect to m\n",
    "        D_b = (-2 / n) * sum(y - y_pred)        # Derivative with respect to b\n",
    "        m -= learning_rate * D_m\n",
    "        b -= learning_rate * D_b\n",
    "\n",
    "    return m, b\n",
    "\n",
    "# Example dataset\n",
    "X = np.array([600, 800, 1000, 1200, 1400, 1600, 1800])\n",
    "y = np.array([300000, 350000, 400000, 450000, 500000, 550000, 600000])\n",
    "\n",
    "# Apply gradient descent\n",
    "m, b = gradient_descent(X, y)\n",
    "print(f\"Slope: {m}, Intercept: {b}\")\n",
    "\n",
    "# Making predictions\n",
    "def predict(X, m, b):\n",
    "    return m * X + b\n",
    "\n",
    "predictions = predict(X, m, b)\n",
    "print(\"Predicted house prices:\", predictions)\n"
   ]
  },
  {
   "cell_type": "code",
   "execution_count": 14,
   "id": "eb0d8726-904b-4167-bbe9-8ef4ab9610c7",
   "metadata": {},
   "outputs": [
    {
     "name": "stdout",
     "output_type": "stream",
     "text": [
      "Mean Squared Error: 0.0\n",
      "Predicted house prices: [300000. 350000.]\n"
     ]
    }
   ],
   "source": [
    "import numpy as np\n",
    "from sklearn.model_selection import train_test_split\n",
    "from sklearn.linear_model import LinearRegression\n",
    "from sklearn.metrics import mean_squared_error\n",
    "\n",
    "# Example dataset: Predicting house prices based on size (sq ft)\n",
    "X = np.array([[600], [800], [1000], [1200], [1400], [1600], [1800]])\n",
    "y = np.array([300000, 350000, 400000, 450000, 500000, 550000, 600000])\n",
    "\n",
    "# Split the data\n",
    "X_train, X_test, y_train, y_test = train_test_split(X, y, test_size=0.2, random_state=42)\n",
    "\n",
    "# Create and train the model\n",
    "model = LinearRegression()\n",
    "model.fit(X_train, y_train)\n",
    "\n",
    "# Make predictions\n",
    "y_pred = model.predict(X_test)\n",
    "\n",
    "# Evaluate the model\n",
    "mse = mean_squared_error(y_test, y_pred)\n",
    "print(f\"Mean Squared Error: {mse}\")\n",
    "print(f\"Predicted house prices: {y_pred}\")\n"
   ]
  },
  {
   "cell_type": "code",
   "execution_count": 19,
   "id": "ed020717-ce37-411e-b1ce-2f21b7573d9a",
   "metadata": {},
   "outputs": [
    {
     "data": {
      "image/png": "[encoded data removed]",
      "text/plain": [
       "<Figure size 640x480 with 1 Axes>"
      ]
     },
     "metadata": {},
     "output_type": "display_data"
    }
   ],
   "source": [
    "import numpy as np\n",
    "from sklearn.linear_model import LinearRegression\n",
    "import matplotlib.pyplot as plt\n",
    "\n",
    "# Sample data\n",
    "X = np.array([[1], [2], [3], [4], [5]])\n",
    "y = np.array([1, 2, 1.3, 3.75, 2.25])\n",
    "\n",
    "# Create model and fit it\n",
    "model = LinearRegression()\n",
    "model.fit(X, y)\n",
    "\n",
    "# Make predictions\n",
    "y_pred = model.predict(X)\n",
    "\n",
    "# Plot results\n",
    "plt.scatter(X, y, color=\"blue\", label=\"Actual data\")\n",
    "plt.plot(X, y_pred, color=\"red\", label=\"Regression line\")\n",
    "plt.xlabel(\"X\")\n",
    "plt.ylabel(\"y\")\n",
    "plt.legend()\n",
    "plt.show()\n"
   ]
  },
  {
   "cell_type": "code",
   "execution_count": null,
   "id": "942606ad-2836-4121-8a78-35bbd0969d88",
   "metadata": {},
   "outputs": [],
   "source": []
  }
 ],
 "metadata": {
  "kernelspec": {
   "display_name": "Python 3 (ipykernel)",
   "language": "python",
   "name": "python3"
  },
  "language_info": {
   "codemirror_mode": {
    "name": "ipython",
    "version": 3
   },
   "file_extension": ".py",
   "mimetype": "text/x-python",
   "name": "python",
   "nbconvert_exporter": "python",
   "pygments_lexer": "ipython3",
   "version": "3.11.9"
  }
 },
 "nbformat": 4,
 "nbformat_minor": 5
}
