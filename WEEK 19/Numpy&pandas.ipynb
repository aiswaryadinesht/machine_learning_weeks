{
 "cells": [
  {
   "cell_type": "markdown",
   "id": "3be312e3-15aa-46af-ae6d-12ec1f5f3027",
   "metadata": {},
   "source": [
    "# NumPy Practical Questions"
   ]
  },
  {
   "cell_type": "code",
   "execution_count": 2,
   "id": "58643f2f-c838-4802-bf24-899f0606f7a2",
   "metadata": {},
   "outputs": [
    {
     "name": "stdout",
     "output_type": "stream",
     "text": [
      "[[ 1  2  3  4  5  6  7  8  9 10]\n",
      " [11 12 13 14 15 16 17 18 19 20]\n",
      " [21 22 23 24 25 26 27 28 29 30]\n",
      " [31 32 33 34 35 36 37 38 39 40]\n",
      " [41 42 43 44 45 46 47 48 49 50]]\n"
     ]
    }
   ],
   "source": [
    "import numpy as np\n",
    "arr = np.arange(1, 51).reshape(5, 10)\n",
    "print(arr)\n"
   ]
  },
  {
   "cell_type": "code",
   "execution_count": 3,
   "id": "d5b8a116-7a18-4475-b637-f73f424dd10b",
   "metadata": {},
   "outputs": [
    {
     "name": "stdout",
     "output_type": "stream",
     "text": [
      "[[1. 0. 0.]\n",
      " [0. 1. 0.]\n",
      " [0. 0. 1.]]\n"
     ]
    }
   ],
   "source": [
    "identity = np.eye(3)\n",
    "print(identity)\n"
   ]
  },
  {
   "cell_type": "code",
   "execution_count": 4,
   "id": "9de45ed1-cdbd-454d-915e-7724bdb59944",
   "metadata": {},
   "outputs": [
    {
     "name": "stdout",
     "output_type": "stream",
     "text": [
      "[0.88031503 0.96113629 0.05724929 0.32039487 0.47684367 0.00700045\n",
      " 0.6697628  0.25102744 0.54170419 0.84296635 0.78779618 0.46918503\n",
      " 0.27860286 0.59622445 0.97159356 0.52049841 0.79683409 0.18232635\n",
      " 0.98611691 0.97088913]\n"
     ]
    }
   ],
   "source": [
    "rand_nums = np.random.rand(20)\n",
    "print(rand_nums)\n"
   ]
  },
  {
   "cell_type": "code",
   "execution_count": 5,
   "id": "a3a82e2c-7430-4760-ab31-91db4cf007f5",
   "metadata": {},
   "outputs": [
    {
     "name": "stdout",
     "output_type": "stream",
     "text": [
      "[[ 1  2  3  4  5]\n",
      " [ 6  7  8  9 10]\n",
      " [11 12 13 14 15]\n",
      " [16 17 18 19 20]\n",
      " [21 22 23 24 25]]\n",
      "[1 2 3 4 5]\n",
      "[ 5 10 15 20 25]\n",
      "[[ 8  9]\n",
      " [13 14]]\n"
     ]
    }
   ],
   "source": [
    "arr = np.arange(1, 26).reshape(5, 5)\n",
    "print(arr)\n",
    "print(arr[0])        # First row\n",
    "print(arr[:, -1])    # Last column\n",
    "print(arr[1:3, 2:4]) # 2x2 sub-matrix\n"
   ]
  },
  {
   "cell_type": "code",
   "execution_count": 6,
   "id": "d2f94795-dacc-4e18-9f6e-d6b6f3a85f3e",
   "metadata": {},
   "outputs": [
    {
     "name": "stdout",
     "output_type": "stream",
     "text": [
      "[0 1 2 3 4 5 6 7 8 9]\n",
      "[ 0 -1  2 -1  4 -1  6 -1  8 -1]\n"
     ]
    }
   ],
   "source": [
    "arr = np.arange(10)\n",
    "print(arr)\n",
    "arr[arr % 2 != 0] = -1\n",
    "print(arr)\n"
   ]
  },
  {
   "cell_type": "code",
   "execution_count": 7,
   "id": "1ebea284-9571-4065-a5f3-a73c7ce9c773",
   "metadata": {},
   "outputs": [
    {
     "name": "stdout",
     "output_type": "stream",
     "text": [
      "[ 6  8 10 12] [-4 -4 -4 -4] [ 5 12 21 32] [0.2        0.33333333 0.42857143 0.5       ]\n"
     ]
    }
   ],
   "source": [
    "a = np.array([1, 2, 3, 4])\n",
    "b = np.array([5, 6, 7, 8])\n",
    "print(a + b, a - b, a * b, a / b)\n"
   ]
  },
  {
   "cell_type": "code",
   "execution_count": 8,
   "id": "c14a3045-d9a0-47f7-b7cc-f07518c858ea",
   "metadata": {},
   "outputs": [
    {
     "name": "stdout",
     "output_type": "stream",
     "text": [
      "32\n",
      "[-3  6 -3]\n"
     ]
    }
   ],
   "source": [
    "a = np.array([1, 2, 3])\n",
    "b = np.array([4, 5, 6])\n",
    "print(np.dot(a, b))      # Dot product\n",
    "print(np.cross(a, b))    # Cross product\n"
   ]
  },
  {
   "cell_type": "code",
   "execution_count": 9,
   "id": "639cc37a-d214-4bb5-b75c-a3d55e1a7482",
   "metadata": {},
   "outputs": [
    {
     "name": "stdout",
     "output_type": "stream",
     "text": [
      "931 46.55 48.5 1057.4475 32.5184178581923 48.5\n"
     ]
    }
   ],
   "source": [
    "arr = np.random.randint(1, 101, 20)\n",
    "print(np.sum(arr), np.mean(arr), np.median(arr), np.var(arr), np.std(arr),np.quantile(arr,.5))\n"
   ]
  },
  {
   "cell_type": "code",
   "execution_count": 10,
   "id": "b45b8e44-b69e-400e-90bc-7743541492d2",
   "metadata": {},
   "outputs": [
    {
     "name": "stdout",
     "output_type": "stream",
     "text": [
      "[[1 2]\n",
      " [3 4]\n",
      " [5 6]\n",
      " [7 8]]\n",
      "[[1 2 5 6]\n",
      " [3 4 7 8]]\n"
     ]
    }
   ],
   "source": [
    "a = np.array([[1, 2], [3, 4]])\n",
    "b = np.array([[5, 6], [7, 8]])\n",
    "print(np.vstack((a, b))) # Vertical stacking\n",
    "print(np.hstack((a, b))) # Horizontal stacking\n"
   ]
  },
  {
   "cell_type": "code",
   "execution_count": 11,
   "id": "beb51c93-b320-4370-bbcb-f39733e41b48",
   "metadata": {},
   "outputs": [
    {
     "name": "stdout",
     "output_type": "stream",
     "text": [
      "(array([1, 2, 3, 4]), array([1, 2, 3, 1]))\n"
     ]
    }
   ],
   "source": [
    "arr = np.array([1, 2, 2, 3, 3, 3, 4])\n",
    "print(np.unique(arr, return_counts=True))\n"
   ]
  },
  {
   "cell_type": "markdown",
   "id": "7a53b6ee-8a4c-4c7f-8ed0-1c84bb1948b4",
   "metadata": {},
   "source": [
    "# pandas questions"
   ]
  },
  {
   "cell_type": "code",
   "execution_count": 12,
   "id": "0c4842be-6308-4c9b-84e7-ecc78c07a959",
   "metadata": {},
   "outputs": [
    {
     "name": "stdout",
     "output_type": "stream",
     "text": [
      "      Name  Age City\n",
      "0    Alice   25   NY\n",
      "1      Bob   30   LA\n",
      "2  Charlie   35   SF\n"
     ]
    }
   ],
   "source": [
    "import pandas as pd\n",
    "data = {'Name': ['Alice', 'Bob', 'Charlie'],\n",
    "        'Age': [25, 30, 35],\n",
    "        'City': ['NY', 'LA', 'SF']}\n",
    "df = pd.DataFrame(data)\n",
    "print(df)\n"
   ]
  },
  {
   "cell_type": "code",
   "execution_count": 13,
   "id": "4e31a2be-e886-4a45-a8fd-7c5051cba005",
   "metadata": {},
   "outputs": [
    {
     "name": "stdout",
     "output_type": "stream",
     "text": [
      "      Name  Age City\n",
      "0    Alice   25   NY\n",
      "1      Bob   30   LA\n",
      "2  Charlie   35   SF\n"
     ]
    }
   ],
   "source": [
    "#df = pd.read_csv('data.csv')\n",
    "print(df.head())\n"
   ]
  },
  {
   "cell_type": "code",
   "execution_count": 14,
   "id": "f37faf8b-9f99-49a5-a756-28f6e30b541d",
   "metadata": {},
   "outputs": [
    {
     "name": "stdout",
     "output_type": "stream",
     "text": [
      "      Name City\n",
      "2  Charlie   SF\n"
     ]
    }
   ],
   "source": [
    "filtered_df = df[df['Age'] > 30][['Name', 'City']]\n",
    "print(filtered_df)\n"
   ]
  },
  {
   "cell_type": "code",
   "execution_count": 15,
   "id": "d2804966-747a-4878-937b-1707f78c2e2a",
   "metadata": {},
   "outputs": [
    {
     "name": "stdout",
     "output_type": "stream",
     "text": [
      "      Name  Age City  Salary\n",
      "0    Alice   25   NY   98421\n",
      "1      Bob   30   LA   91241\n",
      "2  Charlie   35   SF   75692\n"
     ]
    }
   ],
   "source": [
    "df['Salary'] = np.random.randint(50000, 100000, len(df))\n",
    "print(df)\n"
   ]
  },
  {
   "cell_type": "code",
   "execution_count": 16,
   "id": "d45f6d0d-f37f-4718-86eb-f462d3f7ab4f",
   "metadata": {},
   "outputs": [
    {
     "name": "stdout",
     "output_type": "stream",
     "text": [
      "      Name  Age City  Salary\n",
      "0    Alice   25   NY   50392\n",
      "1      Bob   30   LA   99891\n",
      "2  Charlie   35   SF   67004\n"
     ]
    }
   ],
   "source": [
    "df['Salary'] = np.random.randint(50000, 100000, len(df))\n",
    "print(df)\n"
   ]
  },
  {
   "cell_type": "code",
   "execution_count": 17,
   "id": "f9689765-c201-4e7b-881c-c17d386e5c2b",
   "metadata": {},
   "outputs": [
    {
     "name": "stdout",
     "output_type": "stream",
     "text": [
      "City\n",
      "LA    30.0\n",
      "NY    25.0\n",
      "SF    35.0\n",
      "Name: Age, dtype: float64\n"
     ]
    }
   ],
   "source": [
    "grouped = df.groupby('City')['Age'].mean()\n",
    "print(grouped)\n"
   ]
  },
  {
   "cell_type": "code",
   "execution_count": 18,
   "id": "8e5ca91d-2562-44df-b737-bb991b3f83b5",
   "metadata": {},
   "outputs": [
    {
     "name": "stdout",
     "output_type": "stream",
     "text": [
      "Name      0\n",
      "Age       1\n",
      "City      0\n",
      "Salary    0\n",
      "dtype: int64\n",
      "      Name   Age City  Salary\n",
      "0    Alice  25.0   NY   50392\n",
      "1      Bob  30.0   LA   99891\n",
      "2  Charlie  35.0   SF   67004\n"
     ]
    },
    {
     "name": "stderr",
     "output_type": "stream",
     "text": [
      "C:\\Users\\USER\\AppData\\Local\\Temp\\ipykernel_19176\\3500241871.py:3: FutureWarning: A value is trying to be set on a copy of a DataFrame or Series through chained assignment using an inplace method.\n",
      "The behavior will change in pandas 3.0. This inplace method will never work because the intermediate object on which we are setting values always behaves as a copy.\n",
      "\n",
      "For example, when doing 'df[col].method(value, inplace=True)', try using 'df.method({col: value}, inplace=True)' or df[col] = df[col].method(value) instead, to perform the operation inplace on the original object.\n",
      "\n",
      "\n",
      "  df['Age'].fillna(df['Age'].mean(), inplace=True)  # Replace with mean\n"
     ]
    }
   ],
   "source": [
    "df.loc[1, 'Age'] = None\n",
    "print(df.isnull().sum())      # Check missing values\n",
    "df['Age'].fillna(df['Age'].mean(), inplace=True)  # Replace with mean\n",
    "print(df)\n"
   ]
  },
  {
   "cell_type": "code",
   "execution_count": 19,
   "id": "edc963ac-4e8e-4c0c-88cb-dd2cf1ad5abe",
   "metadata": {},
   "outputs": [
    {
     "name": "stdout",
     "output_type": "stream",
     "text": [
      "      Name   Age City  Salary\n",
      "0    Alice  25.0   NY   50392\n",
      "1      Bob  30.0   LA   99891\n",
      "2  Charlie  35.0   SF   67004\n"
     ]
    }
   ],
   "source": [
    "df = df.dropna()\n",
    "print(df)\n"
   ]
  },
  {
   "cell_type": "code",
   "execution_count": 20,
   "id": "4e3bccbc-fd90-45f3-b60d-9db6ec04bac9",
   "metadata": {},
   "outputs": [
    {
     "name": "stdout",
     "output_type": "stream",
     "text": [
      "      Name   Age\n",
      "0    Alice  25.0\n",
      "1      Bob  30.0\n",
      "2  Charlie  35.0\n"
     ]
    }
   ],
   "source": [
    "print(df.iloc[:3, [0, 1]])\n"
   ]
  },
  {
   "cell_type": "code",
   "execution_count": 22,
   "id": "d83cbf30-4538-40d2-9a9d-16c6fd05b7b9",
   "metadata": {},
   "outputs": [
    {
     "data": {
      "image/png": "[encoded data removed]",
      "text/plain": [
       "<Figure size 640x480 with 1 Axes>"
      ]
     },
     "metadata": {},
     "output_type": "display_data"
    }
   ],
   "source": [
    "import matplotlib.pyplot as plt\n",
    "df['Age'].plot(kind='hist', bins=5)\n",
    "plt.show()\n"
   ]
  },
  {
   "cell_type": "code",
   "execution_count": 23,
   "id": "bdc81f1b-dd51-40da-894e-90eb6301cadc",
   "metadata": {},
   "outputs": [
    {
     "name": "stdout",
     "output_type": "stream",
     "text": [
      "      Name   Age City  Salary\n",
      "2  Charlie  35.0   SF   67004\n",
      "1      Bob  30.0   LA   99891\n",
      "0    Alice  25.0   NY   50392\n"
     ]
    }
   ],
   "source": [
    "df = df.sort_values(by='Age', ascending=False)\n",
    "print(df)\n"
   ]
  },
  {
   "cell_type": "code",
   "execution_count": 24,
   "id": "97e2d1c5-9d2a-4f79-b435-1490592f486c",
   "metadata": {},
   "outputs": [
    {
     "name": "stdout",
     "output_type": "stream",
     "text": [
      "   ID   Name  Score\n",
      "0   1  Alice     90\n",
      "1   2    Bob     85\n"
     ]
    }
   ],
   "source": [
    "df1 = pd.DataFrame({'ID': [1, 2, 3], 'Name': ['Alice', 'Bob', 'Charlie']})\n",
    "df2 = pd.DataFrame({'ID': [1, 2, 4], 'Score': [90, 85, 88]})\n",
    "merged = pd.merge(df1, df2, on='ID', how='inner')\n",
    "print(merged)\n"
   ]
  },
  {
   "cell_type": "code",
   "execution_count": 25,
   "id": "2c4ff2d4-8e7f-4b0c-9452-485884c7b11f",
   "metadata": {},
   "outputs": [
    {
     "name": "stdout",
     "output_type": "stream",
     "text": [
      "Product      A      B\n",
      "City                 \n",
      "LA       250.0    NaN\n",
      "NY       200.0  300.0\n",
      "SF         NaN  400.0\n"
     ]
    }
   ],
   "source": [
    "data = {'City': ['NY', 'LA', 'NY', 'SF', 'LA'],\n",
    "        'Product': ['A', 'A', 'B', 'B', 'A'],\n",
    "        'Sales': [200, 150, 300, 400, 100]}\n",
    "df = pd.DataFrame(data)\n",
    "pivot = df.pivot_table(values='Sales', index='City', columns='Product', aggfunc='sum')\n",
    "print(pivot)\n"
   ]
  },
  {
   "cell_type": "code",
   "execution_count": 26,
   "id": "4131182e-870a-4efd-8ec4-b9bf32ac25a4",
   "metadata": {},
   "outputs": [
    {
     "data": {
      "image/png": "[encoded data removed]",
      "text/plain": [
       "<Figure size 640x480 with 1 Axes>"
      ]
     },
     "metadata": {},
     "output_type": "display_data"
    }
   ],
   "source": [
    "import matplotlib.pyplot as plt\n",
    "df.groupby('City')['Sales'].sum().plot(kind='bar')\n",
    "plt.show()\n"
   ]
  },
  {
   "cell_type": "code",
   "execution_count": 27,
   "id": "8eef2db5-ef09-4a19-ba4d-33463ec217bb",
   "metadata": {},
   "outputs": [
    {
     "name": "stdout",
     "output_type": "stream",
     "text": [
      "  City Product  Sales\n",
      "0   NY       A    200\n",
      "1   LA       A    150\n",
      "2   NY       B    300\n",
      "3   SF       B    400\n",
      "4   LA       A    100\n"
     ]
    }
   ],
   "source": [
    "print(df)"
   ]
  },
  {
   "cell_type": "code",
   "execution_count": 28,
   "id": "985ea399-a29f-415b-900d-17cc8451ab46",
   "metadata": {},
   "outputs": [
    {
     "name": "stdout",
     "output_type": "stream",
     "text": [
      "        Date  Value         MA\n",
      "0 2023-01-01     98        NaN\n",
      "1 2023-01-02     51        NaN\n",
      "2 2023-01-03     38  62.333333\n",
      "3 2023-01-04     84  57.666667\n",
      "4 2023-01-05      5  42.333333\n",
      "5 2023-01-06     74  54.333333\n",
      "6 2023-01-07      7  28.666667\n",
      "7 2023-01-08     95  58.666667\n",
      "8 2023-01-09     64  55.333333\n",
      "9 2023-01-10     74  77.666667\n"
     ]
    }
   ],
   "source": [
    "date_range = pd.date_range(start='2023-01-01', periods=10, freq='D')\n",
    "ts_df = pd.DataFrame({'Date': date_range, 'Value': np.random.randint(1, 100, 10)})\n",
    "ts_df['MA'] = ts_df['Value'].rolling(window=3).mean()\n",
    "print(ts_df)\n"
   ]
  },
  {
   "cell_type": "code",
   "execution_count": 29,
   "id": "1f39d9ce-e48f-490f-aaf0-133e1882a8d7",
   "metadata": {},
   "outputs": [
    {
     "name": "stdout",
     "output_type": "stream",
     "text": [
      "            Value     MA\n",
      "Date                    \n",
      "2023-01-31    590  437.0\n"
     ]
    },
    {
     "name": "stderr",
     "output_type": "stream",
     "text": [
      "C:\\Users\\USER\\AppData\\Local\\Temp\\ipykernel_19176\\1275882217.py:2: FutureWarning: 'M' is deprecated and will be removed in a future version, please use 'ME' instead.\n",
      "  monthly = ts_df.resample('M').sum()\n"
     ]
    }
   ],
   "source": [
    "ts_df.set_index('Date', inplace=True)\n",
    "monthly = ts_df.resample('M').sum()\n",
    "print(monthly)\n"
   ]
  },
  {
   "cell_type": "code",
   "execution_count": 1,
   "id": "4a153aaa-c161-4224-a2bb-af0b31cd61be",
   "metadata": {},
   "outputs": [
    {
     "name": "stdout",
     "output_type": "stream",
     "text": [
      "Total sales for each category:\n",
      "Category\n",
      "Appliances      900\n",
      "Electronics    2500\n",
      "Furniture      1250\n",
      "Name: Sales, dtype: int64\n",
      "\n",
      "Category with the highest sales: Electronics\n",
      "\n",
      "Updated DataFrame with Sales Performance column:\n",
      "  Product     Category  Sales        Date Sales_Performance\n",
      "0       A  Electronics   1000  2024-01-01     Below Average\n",
      "1       B    Furniture    500  2024-02-15     Below Average\n",
      "2       C  Electronics   1500  2024-03-10     Above Average\n",
      "3       D    Furniture    750  2024-04-05     Above Average\n",
      "4       E   Appliances    900  2024-05-12     Below Average\n"
     ]
    }
   ],
   "source": [
    "import pandas as pd\n",
    "\n",
    "# Sample dataset\n",
    "data = {\n",
    "    'Product': ['A', 'B', 'C', 'D', 'E'],\n",
    "    'Category': ['Electronics', 'Furniture', 'Electronics', 'Furniture', 'Appliances'],\n",
    "    'Sales': [1000, 500, 1500, 750, 900],\n",
    "    'Date': ['2024-01-01', '2024-02-15', '2024-03-10', '2024-04-05', '2024-05-12']\n",
    "}\n",
    "\n",
    "# Create DataFrame\n",
    "df = pd.DataFrame(data)\n",
    "\n",
    "# 1. Group the data by 'Category' and calculate the total sales for each category\n",
    "category_sales = df.groupby('Category')['Sales'].sum()\n",
    "print(\"Total sales for each category:\")\n",
    "print(category_sales)\n",
    "\n",
    "# 2. Find the category with the highest sales\n",
    "highest_sales_category = category_sales.idxmax()\n",
    "print(f\"\\nCategory with the highest sales: {highest_sales_category}\")\n",
    "\n",
    "# 3. Add a new column indicating if the sales are above or below the category's average sales\n",
    "category_avg_sales = df.groupby('Category')['Sales'].transform('mean')\n",
    "df['Sales_Performance'] = df['Sales'].apply(lambda x: 'Above Average' if x > category_avg_sales[df['Sales'] == x].values[0] else 'Below Average')\n",
    "\n",
    "print(\"\\nUpdated DataFrame with Sales Performance column:\")\n",
    "print(df)\n"
   ]
  },
  {
   "cell_type": "code",
   "execution_count": null,
   "id": "8a7ed452-e232-4410-96a0-51e739e5ecf6",
   "metadata": {},
   "outputs": [],
   "source": []
  }
 ],
 "metadata": {
  "kernelspec": {
   "display_name": "Python 3 (ipykernel)",
   "language": "python",
   "name": "python3"
  },
  "language_info": {
   "codemirror_mode": {
    "name": "ipython",
    "version": 3
   },
   "file_extension": ".py",
   "mimetype": "text/x-python",
   "name": "python",
   "nbconvert_exporter": "python",
   "pygments_lexer": "ipython3",
   "version": "3.11.9"
  }
 },
 "nbformat": 4,
 "nbformat_minor": 5
}
