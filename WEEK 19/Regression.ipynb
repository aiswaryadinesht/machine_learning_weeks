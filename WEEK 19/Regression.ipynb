{
 "cells": [
  {
   "cell_type": "code",
   "execution_count": 4,
   "id": "62ba62f9-5668-4187-bcc5-5660baa1c0ae",
   "metadata": {},
   "outputs": [
    {
     "data": {
      "text/plain": [
       "((436, 13), (109, 13), (436,), (109,))"
      ]
     },
     "execution_count": 4,
     "metadata": {},
     "output_type": "execute_result"
    }
   ],
   "source": [
    "import pandas as pd\n",
    "from sklearn.model_selection import train_test_split\n",
    "from sklearn.preprocessing import OneHotEncoder, StandardScaler\n",
    "\n",
    "housing_data=pd.read_csv(\"Housing.csv\")\n",
    "\n",
    "# Step 1: Preprocess the dataset\n",
    "\n",
    "# One-hot encode categorical variables\n",
    "categorical_columns = ['mainroad', 'guestroom', 'basement', 'hotwaterheating', \n",
    "                       'airconditioning', 'prefarea', 'furnishingstatus']\n",
    "housing_data_encoded = pd.get_dummies(housing_data, columns=categorical_columns, drop_first=True)\n",
    "\n",
    "# Separate features (X) and target variable (y)\n",
    "X = housing_data_encoded.drop(columns=['price'])\n",
    "y = housing_data_encoded['price']\n",
    "\n",
    "# Standardize numerical features for models like Ridge, Lasso, and SVR\n",
    "scaler = StandardScaler()\n",
    "X_scaled = scaler.fit_transform(X)\n",
    "\n",
    "# Split the dataset into training and testing sets (80%-20%)\n",
    "X_train, X_test, y_train, y_test = train_test_split(X_scaled, y, test_size=0.2, random_state=42)\n",
    "\n",
    "# Inspect shapes of train/test sets\n",
    "X_train.shape, X_test.shape, y_train.shape, y_test.shape\n"
   ]
  },
  {
   "cell_type": "code",
   "execution_count": 12,
   "id": "f1ac2b4e-6404-45ee-b156-2fc6db197a44",
   "metadata": {},
   "outputs": [
    {
     "name": "stdout",
     "output_type": "stream",
     "text": [
      "                                    MAE           MSE      R2 Score\n",
      "Linear Regression          9.700434e+05  1.754319e+12  6.529243e-01\n",
      "Ridge Regression           9.698183e+05  1.754769e+12  6.528352e-01\n",
      "Lasso Regression           9.700434e+05  1.754319e+12  6.529242e-01\n",
      "Polynomial Regression      7.295525e+16  2.900745e+35 -5.738857e+22\n",
      "Decision Tree Regression   1.195266e+06  2.642803e+12  4.771459e-01\n",
      "Random Forest Regression   1.017471e+06  1.959406e+12  6.123496e-01\n",
      "Support Vector Regression  1.762567e+06  5.563030e+12 -1.005941e-01\n"
     ]
    }
   ],
   "source": [
    "from sklearn.linear_model import LinearRegression, Ridge, Lasso\n",
    "from sklearn.preprocessing import PolynomialFeatures\n",
    "from sklearn.tree import DecisionTreeRegressor\n",
    "from sklearn.ensemble import RandomForestRegressor\n",
    "from sklearn.svm import SVR\n",
    "from sklearn.metrics import mean_absolute_error, mean_squared_error, r2_score\n",
    "\n",
    "# Dictionary to store model performance\n",
    "performance = {}\n",
    "\n",
    "# Function to evaluate and store model performance\n",
    "def evaluate_model(model_name, y_true, y_pred):\n",
    "    mae = mean_absolute_error(y_true, y_pred)\n",
    "    mse = mean_squared_error(y_true, y_pred)\n",
    "    r2 = r2_score(y_true, y_pred)\n",
    "    performance[model_name] = {'MAE': mae, 'MSE': mse, 'R2 Score': r2}\n",
    "\n",
    "# 1. Linear Regression\n",
    "linear_model = LinearRegression()\n",
    "linear_model.fit(X_train, y_train)\n",
    "y_pred_linear = linear_model.predict(X_test)\n",
    "evaluate_model(\"Linear Regression\", y_test, y_pred_linear)\n",
    "\n",
    "# 2. Ridge Regression\n",
    "ridge_model = Ridge(alpha=1.0)\n",
    "ridge_model.fit(X_train, y_train)\n",
    "y_pred_ridge = ridge_model.predict(X_test)\n",
    "evaluate_model(\"Ridge Regression\", y_test, y_pred_ridge)\n",
    "\n",
    "# 3. Lasso Regression\n",
    "lasso_model = Lasso(alpha=0.1)\n",
    "lasso_model.fit(X_train, y_train)\n",
    "y_pred_lasso = lasso_model.predict(X_test)\n",
    "evaluate_model(\"Lasso Regression\", y_test, y_pred_lasso)\n",
    "\n",
    "# 4. Polynomial Regression (degree 2)\n",
    "poly_features = PolynomialFeatures(degree=2, include_bias=False)\n",
    "X_train_poly = poly_features.fit_transform(X_train)\n",
    "X_test_poly = poly_features.transform(X_test)\n",
    "poly_model = LinearRegression()\n",
    "poly_model.fit(X_train_poly, y_train)\n",
    "y_pred_poly = poly_model.predict(X_test_poly)\n",
    "evaluate_model(\"Polynomial Regression\", y_test, y_pred_poly)\n",
    "\n",
    "# 5. Decision Tree Regression\n",
    "tree_model = DecisionTreeRegressor(random_state=42)\n",
    "tree_model.fit(X_train, y_train)\n",
    "y_pred_tree = tree_model.predict(X_test)\n",
    "evaluate_model(\"Decision Tree Regression\", y_test, y_pred_tree)\n",
    "\n",
    "# 6. Random Forest Regression\n",
    "forest_model = RandomForestRegressor(n_estimators=100, random_state=42)\n",
    "forest_model.fit(X_train, y_train)\n",
    "y_pred_forest = forest_model.predict(X_test)\n",
    "evaluate_model(\"Random Forest Regression\", y_test, y_pred_forest)\n",
    "\n",
    "# 7. Support Vector Regression (SVR)\n",
    "svr_model = SVR(kernel='rbf', C=100, epsilon=0.1)\n",
    "svr_model.fit(X_train, y_train)\n",
    "y_pred_svr = svr_model.predict(X_test)\n",
    "evaluate_model(\"Support Vector Regression\", y_test, y_pred_svr)\n",
    "\n",
    "# Display the performance of all models\n",
    "performance_df = pd.DataFrame(performance).T\n",
    "#performance_df.sort_values(by=\"R2 Score\", ascending=False)\n",
    "print(performance_df)"
   ]
  },
  {
   "cell_type": "code",
   "execution_count": null,
   "id": "b05cefc5-60d8-46ed-b240-6bbab8d90541",
   "metadata": {},
   "outputs": [],
   "source": []
  }
 ],
 "metadata": {
  "kernelspec": {
   "display_name": "Python 3 (ipykernel)",
   "language": "python",
   "name": "python3"
  },
  "language_info": {
   "codemirror_mode": {
    "name": "ipython",
    "version": 3
   },
   "file_extension": ".py",
   "mimetype": "text/x-python",
   "name": "python",
   "nbconvert_exporter": "python",
   "pygments_lexer": "ipython3",
   "version": "3.11.9"
  }
 },
 "nbformat": 4,
 "nbformat_minor": 5
}
