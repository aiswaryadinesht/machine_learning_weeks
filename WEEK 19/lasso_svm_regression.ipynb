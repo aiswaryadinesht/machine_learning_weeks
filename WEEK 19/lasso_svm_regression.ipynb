{
 "cells": [
  {
   "cell_type": "code",
   "execution_count": null,
   "id": "0223282b-551c-4c11-aeb0-acf66dd53570",
   "metadata": {},
   "outputs": [],
   "source": [
    "import pandas as pd\n",
    "from sklearn.linear_model import Lasso\n",
    "from sklearn.metrics import r2_score, mean_squared_error, mean_absolute_error\n",
    "from sklearn.svm import SVR\n",
    "from sklearn.model_selection import train_test_split\n",
    "\n",
    "# Create DataFrame\n",
    "df = {\"area\": [256, 859, 295, 1000, 500, 600], \"price\": [10000, 80000, 20000, 100000, 50000, 60000]}\n",
    "data = pd.DataFrame(df, columns=[\"area\", \"price\"])\n",
    "\n",
    "# Define features and target\n",
    "X = data[['area']]  # 2D DataFrame for features\n",
    "Y = data['price']   # Target\n",
    "\n",
    "# Train-test split\n",
    "X_train, X_test, y_train, y_test = train_test_split(X, Y, test_size=0.2, random_state=42)\n",
    "\n",
    "# Lasso Regression\n",
    "la = Lasso(alpha=0.1)\n",
    "la.fit(X_train, y_train)\n",
    "y_lasso_predict = la.predict(X_test)\n",
    "\n",
    "lasso_r2 = r2_score(y_test, y_lasso_predict)\n",
    "lasso_mse = mean_squared_error(y_test, y_lasso_predict)\n",
    "lasso_mae = mean_absolute_error(y_test, y_lasso_predict)\n",
    "\n",
    "print(\"Lasso Regression:\")\n",
    "print(\"R²:\", lasso_r2)\n",
    "print(\"MSE:\", lasso_mse)\n",
    "print(\"MAE:\", lasso_mae)\n",
    "\n",
    "# SVR\n",
    "svr = SVR(kernel='rbf')\n",
    "svr.fit(X_train, y_train)\n",
    "y_svr_predict = svr.predict(X_test)\n",
    "\n",
    "svr_r2 = r2_score(y_test, y_svr_predict)\n",
    "svr_mse = mean_squared_error(y_test, y_svr_predict)\n",
    "svr_mae = mean_absolute_error(y_test, y_svr_predict)\n",
    "\n",
    "print(\"\\nSupport Vector Regression:\")\n",
    "print(\"R²:\", svr_r2)\n",
    "print(\"MSE:\", svr_mse)\n",
    "print(\"MAE:\", svr_mae)\n"
   ]
  },
  {
   "cell_type": "code",
   "execution_count": null,
   "id": "7d2d56b5-e931-4107-bb85-a6b2e9642d23",
   "metadata": {},
   "outputs": [],
   "source": []
  }
 ],
 "metadata": {
  "kernelspec": {
   "display_name": "Python 3 (ipykernel)",
   "language": "python",
   "name": "python3"
  },
  "language_info": {
   "codemirror_mode": {
    "name": "ipython",
    "version": 3
   },
   "file_extension": ".py",
   "mimetype": "text/x-python",
   "name": "python",
   "nbconvert_exporter": "python",
   "pygments_lexer": "ipython3",
   "version": "3.11.9"
  }
 },
 "nbformat": 4,
 "nbformat_minor": 5
}
