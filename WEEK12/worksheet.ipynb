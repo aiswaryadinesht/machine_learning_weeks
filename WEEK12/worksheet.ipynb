{
 "cells": [
  {
   "cell_type": "code",
   "execution_count": 5,
   "id": "566addfc-13b7-49f3-a398-3e0373899253",
   "metadata": {},
   "outputs": [
    {
     "name": "stdout",
     "output_type": "stream",
     "text": [
      "   PassengerId  Survived  Pclass  \\\n",
      "0            1         0       3   \n",
      "1            2         1       1   \n",
      "2            3         1       3   \n",
      "3            4         1       1   \n",
      "4            5         0       3   \n",
      "5            6         0       3   \n",
      "6            7         0       1   \n",
      "\n",
      "                                                Name     Sex   Age  SibSp  \\\n",
      "0                            Braund, Mr. Owen Harris    male  22.0      1   \n",
      "1  Cumings, Mrs. John Bradley (Florence Briggs Th...  female  38.0      1   \n",
      "2                             Heikkinen, Miss. Laina  female  26.0      0   \n",
      "3       Futrelle, Mrs. Jacques Heath (Lily May Peel)  female  35.0      1   \n",
      "4                           Allen, Mr. William Henry    male  35.0      0   \n",
      "5                                   Moran, Mr. James    male   NaN      0   \n",
      "6                            McCarthy, Mr. Timothy J    male  54.0      0   \n",
      "\n",
      "   Parch            Ticket     Fare Cabin Embarked  \n",
      "0      0         A/5 21171   7.2500   NaN        S  \n",
      "1      0          PC 17599  71.2833   C85        C  \n",
      "2      0  STON/O2. 3101282   7.9250   NaN        S  \n",
      "3      0            113803  53.1000  C123        S  \n",
      "4      0            373450   8.0500   NaN        S  \n",
      "5      0            330877   8.4583   NaN        Q  \n",
      "6      0             17463  51.8625   E46        S  \n",
      "     PassengerId  Survived  Pclass                                      Name  \\\n",
      "888          889         0       3  Johnston, Miss. Catherine Helen \"Carrie\"   \n",
      "889          890         1       1                     Behr, Mr. Karl Howell   \n",
      "890          891         0       3                       Dooley, Mr. Patrick   \n",
      "\n",
      "        Sex   Age  SibSp  Parch      Ticket   Fare Cabin Embarked  \n",
      "888  female   NaN      1      2  W./C. 6607  23.45   NaN        S  \n",
      "889    male  26.0      0      0      111369  30.00  C148        C  \n",
      "890    male  32.0      0      0      370376   7.75   NaN        Q  \n",
      "PassengerId      0\n",
      "Survived         0\n",
      "Pclass           0\n",
      "Name             0\n",
      "Sex              0\n",
      "Age            177\n",
      "SibSp            0\n",
      "Parch            0\n",
      "Ticket           0\n",
      "Fare             0\n",
      "Cabin          687\n",
      "Embarked         2\n",
      "dtype: int64\n"
     ]
    }
   ],
   "source": [
    "import pandas as pd\n",
    "data=pd.read_csv('titanic.csv')\n",
    "\n",
    "print(data.head(7))\n",
    "print(data.tail(3))\n",
    "print(data.isnull().sum())"
   ]
  },
  {
   "cell_type": "code",
   "execution_count": 6,
   "id": "5c3474a9-a460-4648-9660-b17b8b1afd90",
   "metadata": {},
   "outputs": [
    {
     "name": "stdout",
     "output_type": "stream",
     "text": [
      "Final parameters: m = 3.306291312520616, b = -1.716126122188373\n",
      "Predictions: [[18.12162175]\n",
      " [21.42791307]\n",
      " [24.73420438]]\n"
     ]
    }
   ],
   "source": [
    "import numpy as np\n",
    "\n",
    "class GDRegressor:\n",
    "    \n",
    "    def __init__(self, learning_rate=0.01, epochs=1000):\n",
    "        self.m = 100  # Initial slope\n",
    "        self.b = -120  # Initial intercept\n",
    "        self.lr = learning_rate\n",
    "        self.epochs = epochs\n",
    "        \n",
    "    def fit(self, X, y):\n",
    "        # Gradient Descent Algorithm\n",
    "        n = len(X)  # Number of data points\n",
    "        for i in range(self.epochs):\n",
    "            # Calculate the gradients (derivatives of the loss function)\n",
    "            loss_slope_b = -2 * np.sum(y - self.m * X.ravel() - self.b) / n\n",
    "            loss_slope_m = -2 * np.sum((y - self.m * X.ravel() - self.b) * X.ravel()) / n\n",
    "            \n",
    "            # Update the parameters m and b\n",
    "            self.b = self.b - (self.lr * loss_slope_b)\n",
    "            self.m = self.m - (self.lr * loss_slope_m)\n",
    "            \n",
    "            # (Optional) Print the loss every 100 epochs\n",
    "            # if i % 100 == 0:\n",
    "            #     loss = np.mean((y - (self.m * X + self.b)) ** 2)\n",
    "            #     print(f\"Epoch {i}, Loss: {loss}, m: {self.m}, b: {self.b}\")\n",
    "                \n",
    "        print(f\"Final parameters: m = {self.m}, b = {self.b}\")\n",
    "        \n",
    "    def predict(self, X):\n",
    "        return self.m * X + self.b\n",
    "\n",
    "# Example usage\n",
    "if __name__ == \"__main__\":\n",
    "    # Sample data (simple linear relationship y = 2x + 3)\n",
    "    X = np.array([1, 2, 3, 4, 5]).reshape(-1, 1)\n",
    "    y = np.array([5, 7, 9, 11, 13])\n",
    "\n",
    "    # Initialize the regressor\n",
    "    regressor = GDRegressor(learning_rate=0.01, epochs=1000)\n",
    "\n",
    "    # Fit the model to the data\n",
    "    regressor.fit(X, y)\n",
    "\n",
    "    # Make predictions\n",
    "    X_test = np.array([6, 7, 8]).reshape(-1, 1)\n",
    "    predictions = regressor.predict(X_test)\n",
    "    print(f\"Predictions: {predictions}\")\n"
   ]
  },
  {
   "cell_type": "code",
   "execution_count": 7,
   "id": "de1e5f92-aba0-4443-bfeb-a517371590bb",
   "metadata": {},
   "outputs": [
    {
     "name": "stdout",
     "output_type": "stream",
     "text": [
      "Original DataFrame:\n",
      "   Color Size  Price\n",
      "0   Blue    L    100\n",
      "1  Green    M    150\n",
      "2    Red    S    200\n",
      "3  Green   XL    120\n",
      "4    Red    M    180\n",
      "\n",
      "DataFrame after Label Encoding:\n",
      "   Color  Size  Price\n",
      "0      0     0    100\n",
      "1      1     1    150\n",
      "2      2     2    200\n",
      "3      1     3    120\n",
      "4      2     1    180\n"
     ]
    }
   ],
   "source": [
    "import pandas as pd\n",
    "from sklearn.preprocessing import LabelEncoder\n",
    "\n",
    "\n",
    "data = {\n",
    "    'Color': ['Blue', 'Green', 'Red', 'Green', 'Red'],\n",
    "    'Size': ['L', 'M', 'S', 'XL', 'M'],\n",
    "    'Price': [100, 150, 200, 120, 180]\n",
    "}\n",
    "df = pd.DataFrame(data)\n",
    "\n",
    "\n",
    "print(\"Original DataFrame:\")\n",
    "print(df)\n",
    "\n",
    "\n",
    "le = LabelEncoder()\n",
    "\n",
    "\n",
    "df['Color'] = le.fit_transform(df['Color'])\n",
    "df['Size'] = le.fit_transform(df['Size'])\n",
    "\n",
    "\n",
    "print(\"\\nDataFrame after Label Encoding:\")\n",
    "print(df)"
   ]
  },
  {
   "cell_type": "code",
   "execution_count": null,
   "id": "2eca14ec-77fc-4e2c-8f0e-c00ab1d5207a",
   "metadata": {},
   "outputs": [],
   "source": []
  },
  {
   "cell_type": "code",
   "execution_count": 8,
   "id": "e47cfddf-f8d3-4888-84d7-53509fc208d3",
   "metadata": {},
   "outputs": [],
   "source": [
    "import pandas as pd\n",
    "from sklearn.preprocessing import LabelEncoder"
   ]
  },
  {
   "cell_type": "code",
   "execution_count": 9,
   "id": "4e63f520-18aa-479c-b386-29f3a81729ca",
   "metadata": {},
   "outputs": [],
   "source": [
    "data = {\n",
    "    'Color': ['Blue', 'Green', 'Red', 'Green', 'Red'],\n",
    "    'Size': ['L', 'M', 'S', 'XL', 'M'],\n",
    "    'Price': [100, 150, 200, 120, 180]\n",
    "}"
   ]
  },
  {
   "cell_type": "code",
   "execution_count": 10,
   "id": "975632cc-3e4b-4d92-ba7f-ec28dff1e1c1",
   "metadata": {},
   "outputs": [],
   "source": [
    "df=pd.DataFrame(data)"
   ]
  },
  {
   "cell_type": "code",
   "execution_count": 11,
   "id": "6678a63f-a1f8-4d81-908c-bd8ce5e931cc",
   "metadata": {},
   "outputs": [
    {
     "name": "stdout",
     "output_type": "stream",
     "text": [
      "   Color Size  Price\n",
      "0   Blue    L    100\n",
      "1  Green    M    150\n",
      "2    Red    S    200\n",
      "3  Green   XL    120\n",
      "4    Red    M    180\n"
     ]
    }
   ],
   "source": [
    "print(df)"
   ]
  },
  {
   "cell_type": "code",
   "execution_count": 12,
   "id": "8ed60e5a-789b-4bcb-abc4-7d9300b9fb3c",
   "metadata": {},
   "outputs": [],
   "source": [
    "mapping = {'Red': 0, 'Blue': 1, 'Green': 2,'S':32,\"M\":38,'L':42,'XL':46}"
   ]
  },
  {
   "cell_type": "code",
   "execution_count": 13,
   "id": "0ac917cd-3968-4f92-91ed-bf9d888a90d5",
   "metadata": {},
   "outputs": [],
   "source": [
    "df[\"data_colorid\"]= df[\"Color\"].map(mapping)"
   ]
  },
  {
   "cell_type": "code",
   "execution_count": 14,
   "id": "0daf62c4-8638-49e6-a587-3edebe1e2b49",
   "metadata": {},
   "outputs": [
    {
     "name": "stdout",
     "output_type": "stream",
     "text": [
      "   Color Size  Price  data_colorid\n",
      "0   Blue    L    100             1\n",
      "1  Green    M    150             2\n",
      "2    Red    S    200             0\n",
      "3  Green   XL    120             2\n",
      "4    Red    M    180             0\n"
     ]
    }
   ],
   "source": [
    "print(df)"
   ]
  },
  {
   "cell_type": "code",
   "execution_count": 15,
   "id": "2dd8dc45-7b21-4c86-8bef-814c3943e35a",
   "metadata": {},
   "outputs": [],
   "source": [
    "\n",
    "# df['size_encoded'] = df['Size'].map(mapping)\n",
    "\n",
    "# print(df)\n",
    "\n"
   ]
  },
  {
   "cell_type": "code",
   "execution_count": 16,
   "id": "4763d194-f676-4da4-9f35-c52c26040ba7",
   "metadata": {},
   "outputs": [
    {
     "name": "stdout",
     "output_type": "stream",
     "text": [
      "   Color Size  Price  data_colorid  size_encoded\n",
      "0   Blue    L    100             1             0\n",
      "1  Green    M    150             2             1\n",
      "2    Red    S    200             0             2\n",
      "3  Green   XL    120             2             3\n",
      "4    Red    M    180             0             1\n",
      "Unique labels: Index(['L', 'M', 'S', 'XL'], dtype='object')\n"
     ]
    }
   ],
   "source": [
    "# Automatically encode using pandas' factorize()\n",
    "df['size_encoded'], uniques = pd.factorize(df['Size'])\n",
    "\n",
    "print(df)\n",
    "print(f\"Unique labels: {uniques}\")\n"
   ]
  },
  {
   "cell_type": "code",
   "execution_count": 17,
   "id": "e13840ee-c484-48c1-9826-e6d22c636069",
   "metadata": {},
   "outputs": [
    {
     "name": "stdout",
     "output_type": "stream",
     "text": [
      "  Size  Size_encoded\n",
      "0    L             0\n",
      "1    M             1\n",
      "2    S             2\n",
      "3   XL             3\n",
      "4    M             1\n",
      "   Color Size  Price  data_colorid  size_encoded  Size_encoded\n",
      "0   Blue    L    100             1             0             0\n",
      "1  Green    M    150             2             1             1\n",
      "2    Red    S    200             0             2             2\n",
      "3  Green   XL    120             2             3             3\n",
      "4    Red    M    180             0             1             1\n"
     ]
    }
   ],
   "source": [
    "from sklearn.preprocessing import LabelEncoder\n",
    "\n",
    "# Initialize LabelEncoder\n",
    "le = LabelEncoder()\n",
    "\n",
    "# Apply to 'Sex' column\n",
    "df['Size_encoded'] = le.fit_transform(df['Size'])\n",
    "\n",
    "# View the encoded column\n",
    "print(df[['Size', 'Size_encoded']].head())\n",
    "print(df)\n"
   ]
  },
  {
   "cell_type": "code",
   "execution_count": 18,
   "id": "5dde651a-ab4a-4d1c-bcea-95a43d26b46f",
   "metadata": {},
   "outputs": [],
   "source": [
    "import numpy as np"
   ]
  },
  {
   "cell_type": "code",
   "execution_count": 19,
   "id": "ab5f00e8-4c89-4be2-951f-aaccda80fa18",
   "metadata": {},
   "outputs": [],
   "source": [
    "no_row=1000\n",
    "no_col=10\n",
    "\n",
    "data=np.random.rand(no_row,no_col)\n",
    "columns=[f\"column_{i}\" for i in range(1,no_col+1)]\n",
    "df=pd.DataFrame(data,columns=columns)\n"
   ]
  },
  {
   "cell_type": "code",
   "execution_count": 20,
   "id": "0a914133-c282-4098-8ffc-42ad396dba8c",
   "metadata": {},
   "outputs": [
    {
     "name": "stdout",
     "output_type": "stream",
     "text": [
      "     column_1  column_2  column_3  column_4  column_5  column_6  column_7  \\\n",
      "0    0.696303  0.283460  0.157488  0.256153  0.642003  0.813592  0.657691   \n",
      "1    0.424967  0.295314  0.682972  0.105784  0.053497  0.632638  0.035907   \n",
      "2    0.948870  0.912971  0.092770  0.941394  0.640727  0.921253  0.433458   \n",
      "3    0.630865  0.590778  0.901841  0.995347  0.243208  0.071357  0.191515   \n",
      "4    0.313057  0.801960  0.528603  0.717681  0.988276  0.366634  0.201220   \n",
      "..        ...       ...       ...       ...       ...       ...       ...   \n",
      "995  0.473928  0.474775  0.716697  0.029080  0.842007  0.911014  0.095998   \n",
      "996  0.142257  0.862425  0.273439  0.858570  0.302537  0.286044  0.212404   \n",
      "997  0.573544  0.534774  0.950955  0.934034  0.759777  0.830759  0.814725   \n",
      "998  0.798035  0.542620  0.389889  0.883474  0.065782  0.449974  0.690260   \n",
      "999  0.949457  0.637949  0.262027  0.929399  0.014906  0.824983  0.208341   \n",
      "\n",
      "     column_8  column_9  column_10  \n",
      "0    0.459957  0.211621   0.133425  \n",
      "1    0.474658  0.901643   0.737454  \n",
      "2    0.431669  0.375684   0.892748  \n",
      "3    0.416722  0.189168   0.826141  \n",
      "4    0.868828  0.592170   0.190672  \n",
      "..        ...       ...        ...  \n",
      "995  0.342184  0.539094   0.729248  \n",
      "996  0.766513  0.921650   0.600746  \n",
      "997  0.129070  0.131065   0.109559  \n",
      "998  0.173740  0.284862   0.378458  \n",
      "999  0.151725  0.286538   0.210490  \n",
      "\n",
      "[1000 rows x 10 columns]\n"
     ]
    }
   ],
   "source": [
    "print(df)"
   ]
  },
  {
   "cell_type": "code",
   "execution_count": 21,
   "id": "b1ee4941-3c82-4c44-ad0f-ccd36d191b92",
   "metadata": {},
   "outputs": [
    {
     "name": "stdout",
     "output_type": "stream",
     "text": [
      "   admissionid  Age department  salary joining_date\n",
      "0            1   28         cs   35634     05-05-11\n",
      "1            2   28       ecom   20683     05-05-11\n",
      "2            3   25         cs   37874     05-05-11\n",
      "3            4   29         cs   56560     05-05-11\n",
      "4            5   25      maths   32938     05-05-11\n"
     ]
    }
   ],
   "source": [
    "import numpy as np\n",
    "import pandas as pd\n",
    "\n",
    "\n",
    "rows = 1000\n",
    "\n",
    "data1 = {\n",
    "    \"admissionid\": np.arange(1,rows+1),\n",
    "    \"Age\": np.random.randint(18, 30, size=rows),\n",
    "    \"department\": np.random.choice([\"cs\", \"bio\", \"maths\", \"ecom\"], size=rows),\n",
    "    \"salary\": np.random.uniform(20000, 60000, size=rows).astype(int),\n",
    "    \"joining_date\": pd.date_range(start=\"2005-05-11\", periods=rows, freq='min').strftime(\"%y-%m-%d\")\n",
    "}\n",
    "\n",
    "\n",
    "df1 = pd.DataFrame(data1)\n",
    "\n",
    "\n",
    "print(df1.head(5))\n"
   ]
  },
  {
   "cell_type": "code",
   "execution_count": 22,
   "id": "d00abc84-113f-4baa-980c-14bf589d6475",
   "metadata": {},
   "outputs": [],
   "source": [
    "#df1.to_csv('test1.csv',index=False)"
   ]
  },
  {
   "cell_type": "code",
   "execution_count": 23,
   "id": "6787ec53-bac7-4aba-a4e5-b978e8496f35",
   "metadata": {},
   "outputs": [
    {
     "name": "stdout",
     "output_type": "stream",
     "text": [
      "     admissionid  Age department  salary joining_date  dept_code\n",
      "0              1   28         cs   35634     05-05-11          1\n",
      "1              2   28       ecom   20683     05-05-11          2\n",
      "2              3   25         cs   37874     05-05-11          1\n",
      "3              4   29         cs   56560     05-05-11          1\n",
      "4              5   25      maths   32938     05-05-11          3\n",
      "..           ...  ...        ...     ...          ...        ...\n",
      "995          996   19         cs   34791     05-05-11          1\n",
      "996          997   23      maths   20970     05-05-11          3\n",
      "997          998   19        bio   21718     05-05-11          0\n",
      "998          999   26        bio   53360     05-05-11          0\n",
      "999         1000   20        bio   39126     05-05-11          0\n",
      "\n",
      "[1000 rows x 6 columns]\n"
     ]
    }
   ],
   "source": [
    "from sklearn.preprocessing import LabelEncoder\n",
    "le= LabelEncoder()\n",
    "df1['dept_code']=le.fit_transform(df1['department'])\n",
    "print(df1)"
   ]
  },
  {
   "cell_type": "code",
   "execution_count": 32,
   "id": "93e53707-395c-44eb-a2c2-9429194ae803",
   "metadata": {},
   "outputs": [],
   "source": [
    "import pandas as pd\n",
    "encoded_data=pd.get_dummies(df1[\"department\"],prefix=\"department\")"
   ]
  },
  {
   "cell_type": "code",
   "execution_count": 33,
   "id": "615c286b-be4f-40fc-8dff-8cfcb2dce337",
   "metadata": {},
   "outputs": [
    {
     "name": "stdout",
     "output_type": "stream",
     "text": [
      "     department_bio  department_cs  department_ecom  department_maths\n",
      "0             False           True            False             False\n",
      "1             False          False             True             False\n",
      "2             False           True            False             False\n",
      "3             False           True            False             False\n",
      "4             False          False            False              True\n",
      "..              ...            ...              ...               ...\n",
      "995           False           True            False             False\n",
      "996           False          False            False              True\n",
      "997            True          False            False             False\n",
      "998            True          False            False             False\n",
      "999            True          False            False             False\n",
      "\n",
      "[1000 rows x 4 columns]\n"
     ]
    }
   ],
   "source": [
    "print(encoded_data)"
   ]
  },
  {
   "cell_type": "code",
   "execution_count": null,
   "id": "6cd504ad-3e6a-457c-a252-5167ed5b9928",
   "metadata": {},
   "outputs": [],
   "source": []
  }
 ],
 "metadata": {
  "kernelspec": {
   "display_name": "Python 3 (ipykernel)",
   "language": "python",
   "name": "python3"
  },
  "language_info": {
   "codemirror_mode": {
    "name": "ipython",
    "version": 3
   },
   "file_extension": ".py",
   "mimetype": "text/x-python",
   "name": "python",
   "nbconvert_exporter": "python",
   "pygments_lexer": "ipython3",
   "version": "3.11.9"
  }
 },
 "nbformat": 4,
 "nbformat_minor": 5
}
